{
  "nbformat": 4,
  "nbformat_minor": 0,
  "metadata": {
    "colab": {
      "provenance": [],
      "authorship_tag": "ABX9TyMP2S0KKqrhiVEf+EwEEhzh",
      "include_colab_link": true
    },
    "kernelspec": {
      "name": "python3",
      "display_name": "Python 3"
    },
    "language_info": {
      "name": "python"
    }
  },
  "cells": [
    {
      "cell_type": "markdown",
      "metadata": {
        "id": "view-in-github",
        "colab_type": "text"
      },
      "source": [
        "<a href=\"https://colab.research.google.com/github/thomasanna/python-entri/blob/main/Python_Fundamentals.ipynb\" target=\"_parent\"><img src=\"https://colab.research.google.com/assets/colab-badge.svg\" alt=\"Open In Colab\"/></a>"
      ]
    },
    {
      "cell_type": "markdown",
      "source": [
        "**Exercise 1**  \n",
        "*Write Python code that prints your name, student number and email address.  \n",
        "An example runs of the program: *  \n",
        "Bob\n",
        "\n",
        "ST1001\n",
        "\n",
        "bob@gmail.com"
      ],
      "metadata": {
        "id": "XdVzLNyPrrkc"
      }
    },
    {
      "cell_type": "code",
      "source": [
        "import re\n",
        "def validateDetails(name,number,email):\n",
        "  # Regular expression for email validation\n",
        "  pattern = r'^[\\w\\.-]+@[a-zA-Z\\d\\.-]+\\.[a-zA-Z]{2,}$'\n",
        "  if name == '' or number == '' or email == '':\n",
        "     print(\"Please enter all details\")\n",
        "     return False\n",
        "  elif not re.match(pattern, email):\n",
        "     print(\"Please enter valid email\")\n",
        "     return False\n",
        "  else:\n",
        "    return True\n",
        "name = input('Please enter your name')\n",
        "number = input(\"Please enter student number\")\n",
        "email = input(\"Please enter email address\")\n",
        "result = validateDetails(name,number,email)\n",
        "if result:\n",
        "  print(name)\n",
        "  print(number)\n",
        "  print(email)\n",
        "\n"
      ],
      "metadata": {
        "colab": {
          "base_uri": "https://localhost:8080/"
        },
        "id": "hQEI5S0dsN_o",
        "outputId": "2d778e56-046b-476d-c4c1-17d322cb066e"
      },
      "execution_count": null,
      "outputs": [
        {
          "output_type": "stream",
          "name": "stdout",
          "text": [
            "Please enter your nameBob\n",
            "Please enter student numberST001\n",
            "Please enter email addressbob@gmail.com\n",
            "Bob\n",
            "ST001\n",
            "bob@gmail.com\n"
          ]
        }
      ]
    },
    {
      "cell_type": "markdown",
      "source": [
        "**Exercise 2**\n",
        "\n",
        "*Write Python code that prints your name, student number and email address using escape sequences.  *   \n",
        "An example runs of the program:\n",
        "\n",
        "Bob\n",
        "\n",
        "ST1001\n",
        "\n",
        "bob@gmail.com"
      ],
      "metadata": {
        "id": "uDHCXS92z2_u"
      }
    },
    {
      "cell_type": "code",
      "source": [
        "import re\n",
        "def validateDetails(name,number,email):\n",
        "  # Regular expression for email validation\n",
        "  pattern = r'^[\\w\\.-]+@[a-zA-Z\\d\\.-]+\\.[a-zA-Z]{2,}$'\n",
        "  if name == '' or number == '' or email == '':\n",
        "     print(\"Please enter all details\")\n",
        "     return False\n",
        "  elif not re.match(pattern, email):\n",
        "     print(\"Please enter valid email\")\n",
        "     return False\n",
        "  else:\n",
        "    return True\n",
        "name = input('Please enter your name')\n",
        "number = input(\"Please enter student number\")\n",
        "email = input(\"Please enter email address\")\n",
        "result = validateDetails(name,number,email)\n",
        "if result:\n",
        "  print(f\"{name}\\n{number}\\n{email}\")\n"
      ],
      "metadata": {
        "colab": {
          "base_uri": "https://localhost:8080/"
        },
        "id": "fjTgJOYI0Qvh",
        "outputId": "4e65f4ba-a236-464b-9d92-242b5fd97ae9"
      },
      "execution_count": null,
      "outputs": [
        {
          "output_type": "stream",
          "name": "stdout",
          "text": [
            "Please enter your nameBob\n",
            "Please enter student numberST001\n",
            "Please enter email addressbob@gmail.com\n",
            "Bob\n",
            "ST001\n",
            "bob@gmail.com\n"
          ]
        }
      ]
    },
    {
      "cell_type": "markdown",
      "source": [
        "**Exercise 3**\n",
        "\n",
        "*Write Python code that add, subtract, multiply and divide the two numbers. You can use the two numbers 14 and 7.  An example run of the program:  *\n",
        "\n",
        "14 + 7 = 21\n",
        "\n",
        "14 * 7 = 98\n",
        "\n",
        "14 – 7 = 7\n",
        "\n",
        "14 / 7 = 2"
      ],
      "metadata": {
        "id": "ArRLF2Jp1HJK"
      }
    },
    {
      "cell_type": "code",
      "source": [
        "def performArithmeticOperations(num1,num2):\n",
        "   addition = num1 + num2\n",
        "   print(f\"{num1} + {num2} = {addition}\")\n",
        "   subtract = num1-num2\n",
        "   print(f\"{num1} - {num2} = {subtract}\")\n",
        "   multiply = num1 * num2\n",
        "   print(f\"{num1} * {num2} = {multiply}\")\n",
        "   division = num1 / num2\n",
        "   print(f\"{num1} / {num2} = {division}\")\n",
        "num1 = 14\n",
        "num2 = 7\n",
        "performArithmeticOperations(num1,num2)\n"
      ],
      "metadata": {
        "colab": {
          "base_uri": "https://localhost:8080/"
        },
        "id": "eI7ExB3K1SqN",
        "outputId": "62fcf1f7-5ca0-4a9a-b4f9-a0556d03189b"
      },
      "execution_count": null,
      "outputs": [
        {
          "output_type": "stream",
          "name": "stdout",
          "text": [
            "14 + 7 = 21\n",
            "14 - 7 = 7\n",
            "14 * 7 = 98\n",
            "14 / 7 = 2.0\n"
          ]
        }
      ]
    },
    {
      "cell_type": "markdown",
      "source": [
        "**Exercise 4**\n",
        "\n",
        "Write Python code that displays the numbers from 1 to 5 as steps.\n",
        "An example runs of the program:\n",
        "\n",
        "1\n",
        "\n",
        "2\n",
        "\n",
        "3\n",
        "\n",
        "4\n",
        "\n",
        "5"
      ],
      "metadata": {
        "id": "C1k5Jm4G3TnC"
      }
    },
    {
      "cell_type": "code",
      "source": [
        "steps = [str(i) for i in range(1, 6)]  # List comprehension to generate steps from 1 to 5\n",
        "result = '\\n'.join(steps) # Joining steps with newline character to display them as steps\n",
        "print(result)"
      ],
      "metadata": {
        "colab": {
          "base_uri": "https://localhost:8080/"
        },
        "id": "OFMafZCy3a80",
        "outputId": "ee10f393-2001-4354-e9d4-58bbc7d12987"
      },
      "execution_count": null,
      "outputs": [
        {
          "output_type": "stream",
          "name": "stdout",
          "text": [
            "1\n",
            "2\n",
            "3\n",
            "4\n",
            "5\n"
          ]
        }
      ]
    },
    {
      "cell_type": "markdown",
      "source": [
        "**Exercise 5**\n",
        "\n",
        "*Write Python code that outputs the following sentence (including the quotation marks and line break) to the screen: *\n",
        "\n",
        "An example runs of the program:  \n",
        "\"SDK\" stands for \"Software Development Kit\", whereas\n",
        "\n",
        "\"IDE\" stands for \"Integrated Development Environment\"."
      ],
      "metadata": {
        "id": "t8e1UOxuX7fq"
      }
    },
    {
      "cell_type": "code",
      "source": [
        "print('\"SDK\" stands for \"Software Development Kit\", whereas\\n\\n\"IDE\" stands for \"Integrated Development Environment\".')\n"
      ],
      "metadata": {
        "colab": {
          "base_uri": "https://localhost:8080/"
        },
        "id": "97o_Kr5LYCzs",
        "outputId": "9d1bba98-7c39-4f5c-ea64-6319115dd025"
      },
      "execution_count": 1,
      "outputs": [
        {
          "output_type": "stream",
          "name": "stdout",
          "text": [
            "\"SDK\" stands for \"Software Development Kit\", whereas\n",
            "\n",
            "\"IDE\" stands for \"Integrated Development Environment\".\n"
          ]
        }
      ]
    },
    {
      "cell_type": "markdown",
      "source": [
        "**Exercise 6**\n",
        "\n",
        "Practice and check the output\n",
        "\n",
        "print(\"python is an \\\"awesome\\\" language.\")\n",
        "\n",
        "print(\"python\\n\\t2023\")\n",
        "\n",
        "print('I\\'m from Entri.\\b')\n",
        "\n",
        "print(\"\\65\")\n",
        "\n",
        "print(\"\\x65\")\n",
        "\n",
        "print(\"Entri\", \"2023\", sep=\"\\n\")\n",
        "\n",
        "print(\"Entri\", \"2023\", sep=\"\\b\")\n",
        "\n",
        "print(\"Entri\", \"2023\", sep=\"*\", end=\"\\b\\b\\b\\b\")"
      ],
      "metadata": {
        "id": "GJyh_m9tYwGq"
      }
    },
    {
      "cell_type": "code",
      "source": [
        "print('python is an \"awesome\" language.')"
      ],
      "metadata": {
        "colab": {
          "base_uri": "https://localhost:8080/"
        },
        "id": "IC0lgyEWY4gS",
        "outputId": "e544d77f-c072-427c-c7df-00466c7d8c67"
      },
      "execution_count": 3,
      "outputs": [
        {
          "output_type": "stream",
          "name": "stdout",
          "text": [
            "python is an \"awesome\" language.\n"
          ]
        }
      ]
    },
    {
      "cell_type": "code",
      "source": [
        "print(\"python\\n\\t2023\")"
      ],
      "metadata": {
        "colab": {
          "base_uri": "https://localhost:8080/"
        },
        "id": "sgZBY5KSZSEK",
        "outputId": "a96f2ff5-1110-4925-fa95-cfdb472ca56e"
      },
      "execution_count": 4,
      "outputs": [
        {
          "output_type": "stream",
          "name": "stdout",
          "text": [
            "python\n",
            "\t2023\n"
          ]
        }
      ]
    },
    {
      "cell_type": "code",
      "source": [
        "print('I\\'m from Entri.\\b')"
      ],
      "metadata": {
        "colab": {
          "base_uri": "https://localhost:8080/"
        },
        "id": "LHch7k9PZZrH",
        "outputId": "cefc4972-3a9a-4d20-ba01-27c06c01440c"
      },
      "execution_count": 5,
      "outputs": [
        {
          "output_type": "stream",
          "name": "stdout",
          "text": [
            "I'm from Entri.\b\n"
          ]
        }
      ]
    },
    {
      "cell_type": "code",
      "source": [
        "print(\"\\65\")"
      ],
      "metadata": {
        "colab": {
          "base_uri": "https://localhost:8080/"
        },
        "id": "k-y35dIXZ3ZJ",
        "outputId": "8bdf5de6-26d4-470c-b9f5-d33f30deb5a4"
      },
      "execution_count": 8,
      "outputs": [
        {
          "output_type": "stream",
          "name": "stdout",
          "text": [
            "5\n"
          ]
        }
      ]
    },
    {
      "cell_type": "code",
      "source": [
        "print(\"\\x65\")\n",
        "print(\"\\x66\")\n",
        "# \\x is used to represent a hexadecimal escape sequence. So, \"\\x65\" represents the character corresponding to the hexadecimal value 65, which is 'e'."
      ],
      "metadata": {
        "colab": {
          "base_uri": "https://localhost:8080/"
        },
        "id": "Cz0Yd7yYcdvm",
        "outputId": "ceaab2a4-b346-41ba-a767-e78da36dbd8e"
      },
      "execution_count": 10,
      "outputs": [
        {
          "output_type": "stream",
          "name": "stdout",
          "text": [
            "e\n",
            "f\n"
          ]
        }
      ]
    },
    {
      "cell_type": "code",
      "source": [
        "print(\"Entri\", \"2023\", sep=\"\\n\")\n",
        "# this code will print each argument (\"Entri\", \"2023\") on a separate line due to the sep parameter being set to \"\\n\"."
      ],
      "metadata": {
        "colab": {
          "base_uri": "https://localhost:8080/"
        },
        "id": "JFAy6j-oc9_g",
        "outputId": "bf685429-1395-486d-c8c7-57dd2d61e21c"
      },
      "execution_count": 11,
      "outputs": [
        {
          "output_type": "stream",
          "name": "stdout",
          "text": [
            "Entri\n",
            "2023\n"
          ]
        }
      ]
    },
    {
      "cell_type": "code",
      "source": [
        "print(\"Entri\", \"2023\", sep=\"\\b\")"
      ],
      "metadata": {
        "colab": {
          "base_uri": "https://localhost:8080/"
        },
        "id": "EvDjWqT-dViS",
        "outputId": "d19bcc71-5631-4016-b152-fec4ac3becb7"
      },
      "execution_count": 12,
      "outputs": [
        {
          "output_type": "stream",
          "name": "stdout",
          "text": [
            "Entri\b2023\n"
          ]
        }
      ]
    },
    {
      "cell_type": "code",
      "source": [
        "print(\"Entri\", \"2023\", sep=\"*\", end=\"\\b\\b\\b\\b\")\n",
        "# expected output is Entri*2023    , but it not worked why?"
      ],
      "metadata": {
        "colab": {
          "base_uri": "https://localhost:8080/"
        },
        "id": "cARYivLIdfwm",
        "outputId": "e23f8377-0c5f-47d4-a44a-21841210fe8d"
      },
      "execution_count": 13,
      "outputs": [
        {
          "output_type": "stream",
          "name": "stdout",
          "text": [
            "Entri*2023\b\b\b\b"
          ]
        }
      ]
    },
    {
      "cell_type": "markdown",
      "source": [
        "**Exercise 7**\n",
        "\n",
        "*Define the variables below. Print the types of each variable. What is the sum of your variables? (Hint: use a type conversion function.) What datatype is the sum?*\n",
        "\n",
        "num=23\n",
        "\n",
        "textnum=\"57\"\n",
        "\n",
        "decimal=98.3"
      ],
      "metadata": {
        "id": "uO-XtAb-eSSk"
      }
    },
    {
      "cell_type": "code",
      "source": [
        "num=23\n",
        "textnum=\"57\"\n",
        "decimal=98.3\n",
        "print(f\"Type of num {type(num)}\")\n",
        "print(f\"Type of textnum {type(textnum)}\")\n",
        "print(f\"Type of decimal {type(decimal)}\")\n",
        "textnum_int = int(textnum) # Convert textnum to an integer and calculate the sum\n",
        "sum = num + textnum_int + decimal\n",
        "print(f\"Sum of variables : {sum}\")\n",
        "print(f\"Type of sum {type(sum)}\")"
      ],
      "metadata": {
        "colab": {
          "base_uri": "https://localhost:8080/"
        },
        "id": "6ZwfwywXeahR",
        "outputId": "ccbab0c5-e35a-435e-f231-aa87fa5cc64a"
      },
      "execution_count": 19,
      "outputs": [
        {
          "output_type": "stream",
          "name": "stdout",
          "text": [
            "Type of num <class 'int'>\n",
            "Type of textnum <class 'str'>\n",
            "Type of decimal <class 'float'>\n",
            "Sum of variables : 178.3\n",
            "Type of sum <class 'float'>\n"
          ]
        }
      ]
    },
    {
      "cell_type": "markdown",
      "source": [
        "**Exercise 8**\n",
        "\n",
        "*calculate the number of minutes in a year using variables for each unit of time. print a statement that describes what your code does also. Create three variables to store no of days in a year, minute in a hour, hours in a day, then calculate the total minutes in a year and print the values*\n",
        "\n",
        "(hint) total number of minutes in an year =No.of days in an year * Hours in a day * Minutes in an hour"
      ],
      "metadata": {
        "id": "eVOes9lafun4"
      }
    },
    {
      "cell_type": "code",
      "source": [
        "# Define variables\n",
        "days_in_year = 365\n",
        "hours_in_day = 24\n",
        "minutes_in_hour = 60\n",
        "# Calculate total minutes in a year\n",
        "total_minutes = days_in_year * hours_in_day * minutes_in_hour\n",
        "# Print a statement describing what the code does\n",
        "print(\"This code calculates the total number of minutes in a year by multiplying the number of days in a year, hours in a day, and minutes in an hour.\")\n",
        "\n",
        "# Print the values of each variable\n",
        "print(\"Number of days in a year:\", days_in_year)\n",
        "print(\"Number of hours in a day:\", hours_in_day)\n",
        "print(\"Number of minutes in an hour:\", minutes_in_hour)\n",
        "# Print the total number of minutes in a year\n",
        "print(\"Total number of minutes in a year:\", total_minutes)"
      ],
      "metadata": {
        "colab": {
          "base_uri": "https://localhost:8080/"
        },
        "id": "uWbnfbdAf3iU",
        "outputId": "8b43bff2-95d2-46bf-de49-d8e8e44eb589"
      },
      "execution_count": 20,
      "outputs": [
        {
          "output_type": "stream",
          "name": "stdout",
          "text": [
            "This code calculates the total number of minutes in a year by multiplying the number of days in a year, hours in a day, and minutes in an hour.\n",
            "Number of days in a year: 365\n",
            "Number of hours in a day: 24\n",
            "Number of minutes in an hour: 60\n",
            "Total number of minutes in a year: 525600\n"
          ]
        }
      ]
    },
    {
      "cell_type": "markdown",
      "source": [
        "**Exercise 9**\n",
        "\n",
        "*Write Python code that asks the user to enter his/her name and then output/prints his/her name with a greeting.*\n",
        "\n",
        "An example runs of the program:\n",
        "\n",
        "Please enter you name: Tony\n",
        "\n",
        "Hi Tony, welcome to Python programming :)"
      ],
      "metadata": {
        "id": "i7yRoA0fhDIA"
      }
    },
    {
      "cell_type": "code",
      "source": [
        "name = input(\"Please enter your name\")\n",
        "if name:\n",
        "  print(f\"Hi {name}, welcome to Python programming :)\")\n",
        "else:\n",
        "   print(\"Please enter your name\")"
      ],
      "metadata": {
        "colab": {
          "base_uri": "https://localhost:8080/"
        },
        "id": "0z3Vn4V-hJ16",
        "outputId": "60c2a560-f2df-44c0-af9b-d3db5713be7d"
      },
      "execution_count": 23,
      "outputs": [
        {
          "output_type": "stream",
          "name": "stdout",
          "text": [
            "Please enter your nameTony\n",
            "Hi Tony, welcome to Python programming :)\n"
          ]
        }
      ]
    },
    {
      "cell_type": "code",
      "source": [],
      "metadata": {
        "id": "iHFNrCJxiWNU"
      },
      "execution_count": null,
      "outputs": []
    }
  ]
}