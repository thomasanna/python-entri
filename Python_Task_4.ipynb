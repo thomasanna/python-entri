{
  "cells": [
    {
      "cell_type": "markdown",
      "metadata": {
        "id": "view-in-github",
        "colab_type": "text"
      },
      "source": [
        "<a href=\"https://colab.research.google.com/github/thomasanna/python-entri/blob/main/Python_Task_4.ipynb\" target=\"_parent\"><img src=\"https://colab.research.google.com/assets/colab-badge.svg\" alt=\"Open In Colab\"/></a>"
      ]
    },
    {
      "cell_type": "markdown",
      "metadata": {
        "id": "rThKAsWAlF6B"
      },
      "source": [
        "**Exercise 1:**\n",
        "\n",
        "Create a function with a default argument\n",
        "Write a program to create a function show_employee() using the following conditions.\n",
        "\n",
        "It should accept the employee’s name and salary and display both.\n",
        "If the salary is missing in the function call then assign default value 9000 to salary\n"
      ]
    },
    {
      "cell_type": "code",
      "execution_count": null,
      "metadata": {
        "colab": {
          "base_uri": "https://localhost:8080/"
        },
        "id": "zNKF1KTnlTN0",
        "outputId": "e84cc026-15f4-4fbe-b7d5-61cb1b27457a"
      },
      "outputs": [
        {
          "name": "stdout",
          "output_type": "stream",
          "text": [
            "Name : Ben Salary : 12000\n"
          ]
        }
      ],
      "source": [
        "def show_employee(eName,eSalary=9000):\n",
        "    \"\"\"\n",
        "    Function to display employee's name and salary.\n",
        "    If salary is missing, default value 9000 is assigned.\n",
        "    \"\"\"\n",
        "    print(f\"Name : {eName} Salary : {eSalary}\")\n",
        "\n",
        "eName = \"Ben\"\n",
        "eSalary = 12000\n",
        "show_employee(eName,eSalary)"
      ]
    },
    {
      "cell_type": "markdown",
      "metadata": {
        "id": "L22CGVBcm0QQ"
      },
      "source": [
        "**Exercise 2**:\n",
        "\n",
        "Create an inner function to calculate the addition in the following way\n",
        "Create an outer function that will accept two parameters, a and b\n",
        "Create an inner function inside an outer function that will calculate the addition of a and b\n",
        "At last, an outer function will add 5 into addition and return it\n"
      ]
    },
    {
      "cell_type": "code",
      "execution_count": null,
      "metadata": {
        "colab": {
          "base_uri": "https://localhost:8080/"
        },
        "id": "XAjEniLuq4Dp",
        "outputId": "a3fb6f38-6cc9-4db5-fdf0-3548287175c7"
      },
      "outputs": [
        {
          "name": "stdout",
          "output_type": "stream",
          "text": [
            "Result 10\n"
          ]
        }
      ],
      "source": [
        "def outer_function(a,b):\n",
        "   def inner_function():\n",
        "      return a+b\n",
        "   addition = inner_function() + 5\n",
        "   return addition\n",
        "result = outer_function(2,3)\n",
        "print(f\"Result {result}\")"
      ]
    },
    {
      "cell_type": "markdown",
      "metadata": {
        "id": "HdQBk17Yr5hp"
      },
      "source": [
        "**Exercise 3:**\n",
        "\n",
        "*Generate a Python list of all the even numbers between 4 to 30*\n"
      ]
    },
    {
      "cell_type": "code",
      "execution_count": null,
      "metadata": {
        "colab": {
          "base_uri": "https://localhost:8080/"
        },
        "id": "M8T-nBLbsAtt",
        "outputId": "bcd8c70f-c5a8-40be-b50f-623bcd0e9597"
      },
      "outputs": [
        {
          "name": "stdout",
          "output_type": "stream",
          "text": [
            "[4, 6, 8, 10, 12, 14, 16, 18, 20, 22, 24, 26, 28, 30]\n"
          ]
        }
      ],
      "source": [
        "evenNumbers = list(filter(lambda x:x%2==0,range(4,31)))\n",
        "print(evenNumbers)\n",
        "#The filter() function filters elements from the iterable range(4, 31) based on the lambda function provided.\n",
        "#The lambda function lambda x: x % 2 == 0 checks if a number is even.\n",
        "#filter() returns an iterator containing the elements for which the lambda function returns True.\n",
        "#list() converts this iterator to a list, containing all the even numbers between 4 and 30."
      ]
    },
    {
      "cell_type": "markdown",
      "metadata": {
        "id": "kppkOgyAuJhJ"
      },
      "source": [
        "**Exercise 4:**\n",
        "\n",
        "*Lambda Function to Check if value is in a List*\n",
        "\n",
        "Given a list, the task is to write a Python program to check if the value exists in the list or not using the lambda function.\n",
        "\n",
        "\n",
        "Input  : L = [1, 2, 3, 4, 5]\n",
        "          element = 4\n",
        "Output :  Element is Present in the list\n",
        "\n",
        "Input :  L = [1, 2, 3, 4, 5]\n",
        "          element = 8\n",
        "Output :  Element is NOT Present in the list\n"
      ]
    },
    {
      "cell_type": "code",
      "execution_count": null,
      "metadata": {
        "colab": {
          "base_uri": "https://localhost:8080/"
        },
        "id": "aWfJK5cJuhAI",
        "outputId": "593a7d8b-f453-4083-aaa1-ca54580ae843"
      },
      "outputs": [
        {
          "name": "stdout",
          "output_type": "stream",
          "text": [
            "4 is Present in the list\n"
          ]
        }
      ],
      "source": [
        "lst = [1, 2, 3, 4, 5]\n",
        "element = 4\n",
        "check_value = lambda element,lst:element in lst\n",
        "if check_value(element,lst):\n",
        "  print(f\"{element} is Present in the list\")\n",
        "else:\n",
        "  print(f\"{element} is not Present in the list\")\n",
        "\n",
        "\n",
        "\n"
      ]
    },
    {
      "cell_type": "markdown",
      "metadata": {
        "id": "SzN7we7Txgek"
      },
      "source": [
        "**Exercise 5:**\n",
        "\n",
        "Sort list of tuples with their sum\n",
        "Sort the points based on their sum of elements in the tuples\n",
        "\n",
        "points = [(1, 2), (5, 3), (0, 7), (3, 1)]\n"
      ]
    },
    {
      "cell_type": "code",
      "execution_count": null,
      "metadata": {
        "colab": {
          "base_uri": "https://localhost:8080/"
        },
        "id": "v8Z5BGQMxqI3",
        "outputId": "3da9055e-02c7-4acf-c183-e40d1cc38111"
      },
      "outputs": [
        {
          "name": "stdout",
          "output_type": "stream",
          "text": [
            "[(1, 2), (3, 1), (0, 7), (5, 3)]\n"
          ]
        }
      ],
      "source": [
        "points = [(1, 2), (5, 3), (0, 7), (3, 1)]\n",
        "sorted_points = sorted(points,key=lambda x:sum(x))\n",
        "#The sorted() function sorts the points list based on a custom sorting key.\n",
        "#Each tuple x is passed to the lambda function, and sum(x) calculates the sum of elements in the tuple\n",
        "print(sorted_points)"
      ]
    },
    {
      "cell_type": "markdown",
      "metadata": {
        "id": "3jkOTjCLz6bG"
      },
      "source": [
        "**Exercise 6 :**\n",
        "\n",
        "Write a python function, which will find all such numbers between 1000 and 3000 (both included) such that each digit of the number is an even number. Return the results as a list\n"
      ]
    },
    {
      "cell_type": "code",
      "execution_count": null,
      "metadata": {
        "colab": {
          "base_uri": "https://localhost:8080/"
        },
        "id": "Vwmj_KrBz_qD",
        "outputId": "270a1722-7f6d-4194-8eaf-27fb604c5461"
      },
      "outputs": [
        {
          "name": "stdout",
          "output_type": "stream",
          "text": [
            "[2000, 2002, 2004, 2006, 2008, 2020, 2022, 2024, 2026, 2028, 2040, 2042, 2044, 2046, 2048, 2060, 2062, 2064, 2066, 2068, 2080, 2082, 2084, 2086, 2088, 2200, 2202, 2204, 2206, 2208, 2220, 2222, 2224, 2226, 2228, 2240, 2242, 2244, 2246, 2248, 2260, 2262, 2264, 2266, 2268, 2280, 2282, 2284, 2286, 2288, 2400, 2402, 2404, 2406, 2408, 2420, 2422, 2424, 2426, 2428, 2440, 2442, 2444, 2446, 2448, 2460, 2462, 2464, 2466, 2468, 2480, 2482, 2484, 2486, 2488, 2600, 2602, 2604, 2606, 2608, 2620, 2622, 2624, 2626, 2628, 2640, 2642, 2644, 2646, 2648, 2660, 2662, 2664, 2666, 2668, 2680, 2682, 2684, 2686, 2688, 2800, 2802, 2804, 2806, 2808, 2820, 2822, 2824, 2826, 2828, 2840, 2842, 2844, 2846, 2848, 2860, 2862, 2864, 2866, 2868, 2880, 2882, 2884, 2886, 2888]\n"
          ]
        }
      ],
      "source": [
        "def is_even_digits(number):\n",
        "  number = str(number)\n",
        "  #For each number, it converts it to a string to iterate over its digits.\n",
        "  #It uses a generator expression and the all() function to check if each digit of the number is even.\n",
        "  return all(int(digit) % 2 == 0 for digit in number)\n",
        "\n",
        "even_digit_numbers = list(filter(lambda x:is_even_digits(x),range(1000,3001)))\n",
        "#We use filter() with a lambda function to filter numbers from range(1000, 3001) based on the condition defined in is_even_digits.\n",
        "#filter() returns an iterator, so we convert it to a list to print the result.\n",
        "print(even_digit_numbers)"
      ]
    },
    {
      "cell_type": "markdown",
      "metadata": {
        "id": "ujS1jiOz7jRJ"
      },
      "source": [
        "**Exercise 7 :**\n",
        "\n",
        "Write a python function that accepts a sentence and calculate and return the number of letters and digits.\n",
        "\n",
        "Suppose the following input is supplied to the program:\n",
        "\n",
        "hello world! 123\n",
        "\n",
        "Then, the output should be:\n",
        "\n",
        "LETTERS 10\n",
        "\n",
        "DIGITS 3\n"
      ]
    },
    {
      "cell_type": "code",
      "execution_count": null,
      "metadata": {
        "colab": {
          "base_uri": "https://localhost:8080/"
        },
        "id": "Uub_cY0j7t_x",
        "outputId": "a1e069a3-7813-4be9-ad6b-ebad645fe91d"
      },
      "outputs": [
        {
          "name": "stdout",
          "output_type": "stream",
          "text": [
            "LETTERS 10\n",
            "DIGITS 3\n"
          ]
        }
      ],
      "source": [
        "def digit_letter_count(sentence):\n",
        "  digits = sum(map(lambda x:x.isdigit(),sentence))\n",
        "  letters = sum(map(lambda x:x.isalpha(),sentence))\n",
        "  #we use the map() function along with lambda functions to apply the isalpha() and isdigit() methods to each character in the sentence.\n",
        "  #The sum() function is used to count the number of True values returned by the lambda functions, which correspond to letters and digits.\n",
        "  return digits,letters\n",
        "\n",
        "sentence = \"hello world! 123\"\n",
        "digits,letters = digit_letter_count(sentence)\n",
        "print(\"LETTERS\", letters)\n",
        "print(\"DIGITS\", digits)"
      ]
    },
    {
      "cell_type": "markdown",
      "metadata": {
        "id": "yilgUHqw_E_a"
      },
      "source": [
        "**Exercise 8**\n",
        "\n",
        " MAP:\n",
        "Write a Python program to convert all the characters into uppercase and lowercase and eliminate duplicate letters from a given sequence. Use the map() function\n"
      ]
    },
    {
      "cell_type": "code",
      "execution_count": null,
      "metadata": {
        "colab": {
          "base_uri": "https://localhost:8080/"
        },
        "id": "Ysvk2L24_Kq7",
        "outputId": "cf2de99a-d0c3-4d05-9ef3-0d8f4067345e"
      },
      "outputs": [
        {
          "name": "stdout",
          "output_type": "stream",
          "text": [
            "Sequence in uppercase HELOWRD\n",
            "Sequence in lowercase helowrd\n"
          ]
        }
      ],
      "source": [
        "def convert_uppercase(sequence):\n",
        "  upper_sequence = list(map(str.upper,sequence))\n",
        "  #we use map() to convert all characters to uppercase and lowercase.\n",
        "  unique_uppercase =set(upper_sequence)\n",
        "  #Then, we convert all_chars to a set to eliminate duplicate characters.\n",
        "  sorted_unique_uppercase =  ''.join(sorted(unique_uppercase,key=lambda x:upper_sequence.index(x)))\n",
        "  #We then use the sorted() function with a custom key function. The key function takes each unique character x and returns its index in the original list all_chars.\n",
        "  return sorted_unique_uppercase\n",
        "\n",
        "  #Another Method using filter\n",
        "  seen = set()\n",
        "  def filter_func(char):\n",
        "      if char in seen:\n",
        "          return False\n",
        "      seen.add(char)\n",
        "      return True\n",
        "  return ''.join(filter(filter_func, sequence.upper()))\n",
        "\n",
        "\n",
        "\n",
        "\n",
        "def convert_lowercase(sequence):\n",
        "  lower_sequence = list(map(str.lower,sequence))\n",
        "  unique_lowercase = set(lower_sequence)\n",
        "  sorted_unique_lowercase = ''.join(sorted(unique_lowercase,key=lambda x:lower_sequence.index(x)))\n",
        "  return sorted_unique_lowercase\n",
        "\n",
        "sequence = \"helloWorld\"\n",
        "upper_result = convert_uppercase(sequence)\n",
        "print(f\"Sequence in uppercase {upper_result}\")\n",
        "lower_result = convert_lowercase(sequence)\n",
        "print(f\"Sequence in lowercase {lower_result}\")"
      ]
    },
    {
      "cell_type": "markdown",
      "metadata": {
        "id": "aFQWe7gHKLRB"
      },
      "source": [
        "**Exercise 9**\n",
        "\n",
        "MAP:\n",
        "\n",
        " Write a Python program to element wise add two given lists and find the difference between them. Use the map() function\n"
      ]
    },
    {
      "cell_type": "code",
      "execution_count": null,
      "metadata": {
        "colab": {
          "base_uri": "https://localhost:8080/"
        },
        "id": "-75cuh8OKlaA",
        "outputId": "b71de0c6-87be-4734-af00-a4afd2ac9053"
      },
      "outputs": [
        {
          "name": "stdout",
          "output_type": "stream",
          "text": [
            "element wise sum : [9, 14, 10, 10]\n",
            "element wise diffrence : [-5, -4, 6, 8]\n"
          ]
        }
      ],
      "source": [
        "def addLists(list1,list2):\n",
        "  #addition of two lists\n",
        "  sum= list(map(lambda x,y:x+y, list1,list2))\n",
        "  #diffrence between two lists\n",
        "  diffrence = list(map(lambda x,y:x-y, list1,list2))\n",
        "  return sum, diffrence\n",
        "\n",
        "list1 =[2,5,8,9]\n",
        "list2 = [7,9,2,1]\n",
        "sum,diffrence = addLists(list1,list2)\n",
        "print(f\"element wise sum : {sum}\")\n",
        "print(f\"element wise diffrence : {diffrence}\")"
      ]
    },
    {
      "cell_type": "markdown",
      "metadata": {
        "id": "i6ln_GNiMWkZ"
      },
      "source": [
        "**Exercise 10**\n",
        "\n",
        "*Filter:*\n",
        "\n",
        "Write a Python program to filter the height and weight of students, which are stored in a dictionary using lambda.\n",
        "\n",
        "Original Dictionary:\n",
        "\n",
        "{'Cierra Vega': (6.2, 71), 'Alden Cantrell': (5.9, 65), 'Kierra Gentry': (6.0, 68), 'Pierre Cox': (5.8, 66)}\n",
        "\n",
        "Height> 6ft and Weight> 70kg:\n",
        "{'Cierra Vega': (6.2, 71)}\n"
      ]
    },
    {
      "cell_type": "code",
      "execution_count": null,
      "metadata": {
        "colab": {
          "base_uri": "https://localhost:8080/"
        },
        "id": "t7sSghGrS5XI",
        "outputId": "46645ac1-f380-4cf7-f904-2d498cfa75e2"
      },
      "outputs": [
        {
          "name": "stdout",
          "output_type": "stream",
          "text": [
            "Height> 6ft and Weight> 70kg: \n",
            "{'Cierra Vega': (6.2, 71)}\n"
          ]
        }
      ],
      "source": [
        "def filterStudents(students,height,weight):\n",
        "   # print(students.items()) => dict_items([('Cierra Vega', (6.2, 71)), ('Alden Cantrell', (5.9, 65)), ('Kierra Gentry', (6.0, 68)), ('Pierre Cox', (5.8, 66))])\n",
        "   # list of tuples\n",
        "\n",
        "   filtered_items = dict(filter(lambda item:item[1][0] > height and item[1][1] > weight,students.items() ))\n",
        "   #item => ('Cierra Vega', (6.2, 71))\n",
        "   #item[1][0] => 6.2\n",
        "   #item[1][1] => 71\n",
        "   return filtered_items\n",
        "students = {'Cierra Vega': (6.2, 71),\n",
        "            'Alden Cantrell': (5.9, 65),\n",
        "            'Kierra Gentry': (6.0, 68),\n",
        "            'Pierre Cox': (5.8, 66)\n",
        "           }\n",
        "height = 6\n",
        "weight = 70\n",
        "filtered_students = filterStudents(students,height,weight)\n",
        "print(f\"Height> {height}ft and Weight> {weight}kg: \")\n",
        "print(filtered_students)"
      ]
    },
    {
      "cell_type": "markdown",
      "metadata": {
        "id": "6uOABRVtXYI2"
      },
      "source": [
        "**Exercise 11**\n",
        "\n",
        "Filter:\n",
        "\n",
        "Write a Python program to remove all elements from a given list present in another list using lambda.\n",
        "\n",
        "Original lists:\n",
        "\n",
        "list1: [1, 2, 3, 4, 5, 6, 7, 8, 9, 10]\n",
        "\n",
        "list2: [2, 4, 6, 8]\n",
        "\n",
        "Remove all elements from 'list1' present in 'list2:\n",
        "\n",
        "[1, 3, 5, 7, 9, 10]\n"
      ]
    },
    {
      "cell_type": "code",
      "execution_count": null,
      "metadata": {
        "colab": {
          "base_uri": "https://localhost:8080/"
        },
        "id": "NrH_V3TOkymG",
        "outputId": "c4217760-994f-48a3-8cc3-3c7a6425aa04"
      },
      "outputs": [
        {
          "name": "stdout",
          "output_type": "stream",
          "text": [
            "List 1 : [1, 2, 3, 4, 5, 6, 7, 8, 9, 10]\n",
            "List 2 : [2, 4, 6, 8]\n",
            "List1 after removing elements present in list2: [1, 3, 5, 7, 9, 10]\n"
          ]
        }
      ],
      "source": [
        "def filterList(list1,list2):\n",
        "   return list(filter(lambda x: x not in list2, list1))\n",
        "\n",
        "list1 = [1, 2, 3, 4, 5, 6, 7, 8, 9, 10]\n",
        "list2 = [2, 4, 6, 8]\n",
        "result = filterList(list1,list2)\n",
        "print(f\"List 1 : {list1}\")\n",
        "print(f\"List 2 : {list2}\")\n",
        "print(f\"List1 after removing elements present in list2: {result}\")"
      ]
    },
    {
      "cell_type": "markdown",
      "metadata": {
        "id": "Bq9cS0Pwn9MC"
      },
      "source": [
        "**Exercise 12**\n",
        "\n",
        "Reduce:\n",
        "\n",
        "\n",
        "Write a Python program to calculate the product of a given list of numbers using lambda.\n",
        "\n",
        "list1: [1, 2, 3, 4, 5, 6, 7, 8, 9, 10]\n",
        "\n",
        "Product of the said list numbers:\n",
        "\n",
        "3628800\n"
      ]
    },
    {
      "cell_type": "code",
      "execution_count": null,
      "metadata": {
        "colab": {
          "base_uri": "https://localhost:8080/"
        },
        "id": "1E7QbL_VXoJi",
        "outputId": "13c473e4-d8bc-47f2-ae19-90417c2b6317"
      },
      "outputs": [
        {
          "name": "stdout",
          "output_type": "stream",
          "text": [
            "3628800\n"
          ]
        }
      ],
      "source": [
        "from functools import reduce\n",
        "def calculateProduct(list):\n",
        "    \"\"\"\n",
        "    At first step, first two elements of sequence are picked and the result is obtained.\n",
        "  • Next step is to apply the same function to the previously attained result and the number just\n",
        "  succeeding the third element and the result is again stored.\n",
        "  • This process continues till no more elements are left in the container.\n",
        "  qa• The final returned result is returned and printed on console.\n",
        "    \"\"\"\n",
        "    return reduce(lambda x,y : x*y,list)\n",
        "\n",
        "list = [1, 2, 3, 4, 5, 6, 7, 8, 9, 10]\n",
        "result = calculateProduct(list)\n",
        "print(result)"
      ]
    },
    {
      "cell_type": "markdown",
      "metadata": {
        "id": "aNAgFpQ6CMSN"
      },
      "source": [
        "**Exercise 13**\n",
        "\n",
        "Reduce:\n",
        "\n",
        "\n",
        " Write a Python program to multiply all the numbers in a given list using lambda.\n",
        "\n",
        "Original list:\n",
        "\n",
        "[4, 3, 2, 2, -1, 18]\n",
        "\n",
        "Mmultiply all the numbers of the said list: -864\n"
      ]
    },
    {
      "cell_type": "code",
      "execution_count": null,
      "metadata": {
        "colab": {
          "base_uri": "https://localhost:8080/"
        },
        "id": "x9p-IJmdCfrs",
        "outputId": "af88c135-2c76-4534-aa41-333c4510b3cf"
      },
      "outputs": [
        {
          "name": "stdout",
          "output_type": "stream",
          "text": [
            "-864\n"
          ]
        }
      ],
      "source": [
        "from functools import reduce\n",
        "def multiply(list):\n",
        "    \"\"\"\n",
        "    At first step, first two elements of sequence are picked and the result is obtained.\n",
        "  • Next step is to apply the same function to the previously attained result and the number just\n",
        "  succeeding the third element and the result is again stored.\n",
        "  • This process continues till no more elements are left in the container.\n",
        "  qa• The final returned result is returned and printed on console.\n",
        "    \"\"\"\n",
        "    return reduce(lambda x,y : x*y,list)\n",
        "\n",
        "list = [4, 3, 2, 2, -1, 18]\n",
        "result = multiply(list)\n",
        "print(result)"
      ]
    },
    {
      "cell_type": "markdown",
      "metadata": {
        "id": "dnKNSoRTCscX"
      },
      "source": [
        "**Exercise 14**\n",
        "\n",
        "Reduce:\n",
        "\n",
        "\n",
        "Write a Python program to calculate the average value of the numbers in a given tuple of tuples using lambda.\n",
        "\n",
        "Original Tuple:\n",
        "\n",
        "((10, 10, 10), (30, 45, 56), (81, 80, 39), (1, 2, 3))\n",
        "\n",
        "Average value of the numbers of the said tuple of tuples:\n",
        "\n",
        "(30.5, 34.25, 27.0)\n"
      ]
    },
    {
      "cell_type": "code",
      "execution_count": null,
      "metadata": {
        "colab": {
          "base_uri": "https://localhost:8080/"
        },
        "id": "SiHh5T98CyZb",
        "outputId": "36571208-be36-425e-ad0b-1855e7ea066f"
      },
      "outputs": [
        {
          "name": "stdout",
          "output_type": "stream",
          "text": [
            "Average value of the numbers of the tuple of tuples: (30.5, 34.25, 27.0)\n"
          ]
        }
      ],
      "source": [
        "from functools import reduce\n",
        "\n",
        "def calculate_average(numbers):\n",
        "\n",
        "    # Use reduce with a lambda function to calculate the sum of each column\n",
        "    #The zip() function returns a zip object, which is an iterator of tuples\n",
        "    #where the first item in each passed iterator is paired together, and\n",
        "    #then the second item in each passed iterator are paired together etc.\n",
        "    column_sums = reduce(lambda x, y: tuple(map(sum, zip(x, y))), numbers)  #returns (122, 137, 108)\n",
        "    # x = (10, 10, 10)  #take first two tuples and find the sum of first two elements of two tuples\n",
        "    # y = (30, 45, 56)\n",
        "    # zip(x,y)   => ((10,30),(10,45),(10,56))\n",
        "    # print(tuple(map(sum, zip(x, y))))  #(40, 55, 66)\n",
        "    # x = (40, 55, 66)\n",
        "    # y = (81, 80, 39)\n",
        "    # print(tuple(map(sum, zip(x, y)))) #(121, 135, 105)\n",
        "    # x = (121, 135, 105)\n",
        "    # y = (1, 2, 3)\n",
        "    # print(tuple(map(sum, zip(x, y)))) #(122, 137, 108)\n",
        "\n",
        "    # Calculate the average of each column\n",
        "    num_tuples = len(numbers) #4\n",
        "\n",
        "    average = tuple(map(lambda x: x / num_tuples, column_sums))\n",
        "    return average\n",
        "\n",
        "# Test the function\n",
        "numbers = ((10, 10, 10), (30, 45, 56), (81, 80, 39), (1, 2, 3))\n",
        "average = calculate_average(numbers)\n",
        "print(\"Average value of the numbers of the tuple of tuples:\", average)"
      ]
    },
    {
      "cell_type": "markdown",
      "metadata": {
        "id": "wycXQyp2KClM"
      },
      "source": [
        "**Exercise 15:**\n",
        "\n",
        "\n",
        "Write a Python program to sort a given mixed list of integers and strings using lambda. Numbers must be sorted before strings.\n",
        "\n",
        "Original list:\n",
        "\n",
        "[19, 'red', 12, 'green', 'blue', 10, 'white', 'green', 1]\n",
        "\n",
        "Sort the said mixed list of integers and strings:\n",
        "\n",
        "[1, 10, 12, 19, 'blue', 'green', 'green', 'red', 'white']\n"
      ]
    },
    {
      "cell_type": "code",
      "execution_count": null,
      "metadata": {
        "colab": {
          "base_uri": "https://localhost:8080/"
        },
        "id": "1ODkE1pSKGyS",
        "outputId": "f05c03db-ff41-4359-e182-addca7cab63e"
      },
      "outputs": [
        {
          "name": "stdout",
          "output_type": "stream",
          "text": [
            "[1, 10, 12, 19, 'blue', 'green', 'green', 'red', 'white']\n"
          ]
        }
      ],
      "source": [
        "list1 = [19, 'red', 12, 'green', 'blue', 10, 'white', 'green', 1]\n",
        "#The lambda function lambda x: (isinstance(x, str), x) serves as the key function for sorting.\n",
        "sorted_list = sorted(list1, key=lambda x: (isinstance(x, str), x))\n",
        "#It first checks if the element x is an string using isinstance(x, str).\n",
        "#This will evaluate to True if x is an string, and False otherwise.\n",
        "\n",
        "#If x is a string, (isinstance(x, str), x) evaluates to (True, x),\n",
        "# and if x is an int, it evaluates to (False, x).\n",
        "print(sorted_list)"
      ]
    },
    {
      "cell_type": "markdown",
      "metadata": {
        "id": "-YNwX4iLTcWQ"
      },
      "source": [
        "**Exercise 16:**\n",
        "\n",
        "Write a Python program to count the occurrences of items in a given list using lambda.\n",
        "\n",
        "Original list:\n",
        "\n",
        "[3, 4, 5, 8, 0, 3, 8, 5, 0, 3, 1, 5, 2, 3, 4, 2]\n",
        "\n",
        "Count the occurrences of the items in the said list:\n",
        "\n",
        "{3: 4, 4: 2, 5: 3, 8: 2, 0: 2, 1: 1, 2: 2}\n"
      ]
    },
    {
      "cell_type": "code",
      "execution_count": null,
      "metadata": {
        "colab": {
          "base_uri": "https://localhost:8080/"
        },
        "id": "ymh8n60CTzIN",
        "outputId": "b7ed51dc-663b-4484-db1f-94e5e83d08e1"
      },
      "outputs": [
        {
          "name": "stdout",
          "output_type": "stream",
          "text": [
            "the occurrences of the items in the said list: {3: 4, 4: 2, 5: 3, 8: 2, 0: 2, 1: 1, 2: 2}\n"
          ]
        }
      ],
      "source": [
        "original_list  = [3, 4, 5, 8, 0, 3, 8, 5, 0, 3, 1, 5, 2, 3, 4, 2]\n",
        "result = dict(map(lambda x:(x,original_list.count(x)) , original_list))\n",
        "#map(lambda x: (x, original_list.count(x)), original_list) applies\n",
        "#a lambda function to each element x in the original_list.\n",
        "#The lambda function creates a tuple (x, original_list.count(x)),\n",
        "# where x is the item from the original list and original_list.count(x)\n",
        "#is the count of occurrences of x in the list.\n",
        "print(f\"the occurrences of the items in the said list: {result}\")"
      ]
    },
    {
      "cell_type": "markdown",
      "metadata": {
        "id": "OfO5LPWUWea7"
      },
      "source": [
        "**Exercise 17:**\n",
        "\n",
        "\n",
        "Write a Python program to remove None values from a given list using the lambda function.\n",
        "\n",
        "Original list:\n",
        "\n",
        "[12, 0, None, 23, None, -55, 234, 89, None, 0, 6, -12]\n",
        "\n",
        "Remove None value from the said list:\n",
        "\n",
        "[12, 0, 23, -55, 234, 89, 0, 6, -12]\n"
      ]
    },
    {
      "cell_type": "code",
      "execution_count": 41,
      "metadata": {
        "colab": {
          "base_uri": "https://localhost:8080/"
        },
        "id": "xMConTWsTldS",
        "outputId": "09a3a068-d41a-406d-8578-e3505346ddd5"
      },
      "outputs": [
        {
          "output_type": "stream",
          "name": "stdout",
          "text": [
            "Remove None value from the said list:  (12, 0, 23, -55, 234, 89, 0, 6, -12)\n"
          ]
        }
      ],
      "source": [
        "def filterList(list1):\n",
        "   return tuple(filter(lambda x: x is not None, list1))\n",
        "list1 = [12, 0, None, 23, None, -55, 234, 89, None, 0, 6, -12]\n",
        "filtered_list = filterList(list1)\n",
        "\n",
        "print(f\"Remove None value from the said list:  {filtered_list}\")"
      ]
    }
  ],
  "metadata": {
    "colab": {
      "provenance": [],
      "authorship_tag": "ABX9TyPncCi4aqMdSfyQLk2UkNUk",
      "include_colab_link": true
    },
    "kernelspec": {
      "display_name": "Python 3",
      "name": "python3"
    },
    "language_info": {
      "name": "python"
    }
  },
  "nbformat": 4,
  "nbformat_minor": 0
}