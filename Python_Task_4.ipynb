{
  "nbformat": 4,
  "nbformat_minor": 0,
  "metadata": {
    "colab": {
      "provenance": [],
      "authorship_tag": "ABX9TyNsdDl4lWKWrLpI+aPw7BwI",
      "include_colab_link": true
    },
    "kernelspec": {
      "name": "python3",
      "display_name": "Python 3"
    },
    "language_info": {
      "name": "python"
    }
  },
  "cells": [
    {
      "cell_type": "markdown",
      "metadata": {
        "id": "view-in-github",
        "colab_type": "text"
      },
      "source": [
        "<a href=\"https://colab.research.google.com/github/thomasanna/python-entri/blob/main/Python_Task_4.ipynb\" target=\"_parent\"><img src=\"https://colab.research.google.com/assets/colab-badge.svg\" alt=\"Open In Colab\"/></a>"
      ]
    },
    {
      "cell_type": "markdown",
      "source": [
        "**Exercise 1:**\n",
        "\n",
        "Create a function with a default argument\n",
        "Write a program to create a function show_employee() using the following conditions.\n",
        "\n",
        "It should accept the employee’s name and salary and display both.\n",
        "If the salary is missing in the function call then assign default value 9000 to salary\n"
      ],
      "metadata": {
        "id": "rThKAsWAlF6B"
      }
    },
    {
      "cell_type": "code",
      "source": [
        "def show_employee(eName,eSalary=9000):\n",
        "    \"\"\"\n",
        "    Function to display employee's name and salary.\n",
        "    If salary is missing, default value 9000 is assigned.\n",
        "    \"\"\"\n",
        "    print(f\"Name : {eName} Salary : {eSalary}\")\n",
        "\n",
        "eName = \"Ben\"\n",
        "eSalary = 12000\n",
        "show_employee(eName,eSalary)"
      ],
      "metadata": {
        "colab": {
          "base_uri": "https://localhost:8080/"
        },
        "id": "zNKF1KTnlTN0",
        "outputId": "e84cc026-15f4-4fbe-b7d5-61cb1b27457a"
      },
      "execution_count": 4,
      "outputs": [
        {
          "output_type": "stream",
          "name": "stdout",
          "text": [
            "Name : Ben Salary : 12000\n"
          ]
        }
      ]
    },
    {
      "cell_type": "markdown",
      "source": [
        "**Exercise 2**:\n",
        "\n",
        "Create an inner function to calculate the addition in the following way\n",
        "Create an outer function that will accept two parameters, a and b\n",
        "Create an inner function inside an outer function that will calculate the addition of a and b\n",
        "At last, an outer function will add 5 into addition and return it\n"
      ],
      "metadata": {
        "id": "L22CGVBcm0QQ"
      }
    },
    {
      "cell_type": "code",
      "source": [
        "def outer_function(a,b):\n",
        "   def inner_function():\n",
        "      return a+b\n",
        "   addition = inner_function() + 5\n",
        "   return addition\n",
        "result = outer_function(2,3)\n",
        "print(f\"Result {result}\")"
      ],
      "metadata": {
        "colab": {
          "base_uri": "https://localhost:8080/"
        },
        "id": "XAjEniLuq4Dp",
        "outputId": "a3fb6f38-6cc9-4db5-fdf0-3548287175c7"
      },
      "execution_count": 6,
      "outputs": [
        {
          "output_type": "stream",
          "name": "stdout",
          "text": [
            "Result 10\n"
          ]
        }
      ]
    },
    {
      "cell_type": "markdown",
      "source": [
        "**Exercise 3:**\n",
        "\n",
        "*Generate a Python list of all the even numbers between 4 to 30*\n"
      ],
      "metadata": {
        "id": "HdQBk17Yr5hp"
      }
    },
    {
      "cell_type": "code",
      "source": [
        "evenNumbers = list(filter(lambda x:x%2==0,range(4,31)))\n",
        "print(evenNumbers)\n",
        "#The filter() function filters elements from the iterable range(4, 31) based on the lambda function provided.\n",
        "#The lambda function lambda x: x % 2 == 0 checks if a number is even.\n",
        "#filter() returns an iterator containing the elements for which the lambda function returns True.\n",
        "#list() converts this iterator to a list, containing all the even numbers between 4 and 30."
      ],
      "metadata": {
        "colab": {
          "base_uri": "https://localhost:8080/"
        },
        "id": "M8T-nBLbsAtt",
        "outputId": "bcd8c70f-c5a8-40be-b50f-623bcd0e9597"
      },
      "execution_count": 7,
      "outputs": [
        {
          "output_type": "stream",
          "name": "stdout",
          "text": [
            "[4, 6, 8, 10, 12, 14, 16, 18, 20, 22, 24, 26, 28, 30]\n"
          ]
        }
      ]
    },
    {
      "cell_type": "markdown",
      "source": [
        "**Exercise 4:**\n",
        "\n",
        "*Lambda Function to Check if value is in a List*\n",
        "\n",
        "Given a list, the task is to write a Python program to check if the value exists in the list or not using the lambda function.\n",
        "\n",
        "\n",
        "Input  : L = [1, 2, 3, 4, 5]\n",
        "          element = 4\n",
        "Output :  Element is Present in the list\n",
        "\n",
        "Input :  L = [1, 2, 3, 4, 5]\n",
        "          element = 8\n",
        "Output :  Element is NOT Present in the list\n"
      ],
      "metadata": {
        "id": "kppkOgyAuJhJ"
      }
    },
    {
      "cell_type": "code",
      "source": [
        "lst = [1, 2, 3, 4, 5]\n",
        "element = 4\n",
        "check_value = lambda element,lst:element in lst\n",
        "if check_value(element,lst):\n",
        "  print(f\"{element} is Present in the list\")\n",
        "else:\n",
        "  print(f\"{element} is not Present in the list\")\n",
        "\n",
        "\n",
        "\n"
      ],
      "metadata": {
        "colab": {
          "base_uri": "https://localhost:8080/"
        },
        "id": "aWfJK5cJuhAI",
        "outputId": "593a7d8b-f453-4083-aaa1-ca54580ae843"
      },
      "execution_count": 11,
      "outputs": [
        {
          "output_type": "stream",
          "name": "stdout",
          "text": [
            "4 is Present in the list\n"
          ]
        }
      ]
    },
    {
      "cell_type": "markdown",
      "source": [
        "**Exercise 5:**\n",
        "\n",
        "Sort list of tuples with their sum\n",
        "Sort the points based on their sum of elements in the tuples\n",
        "\n",
        "points = [(1, 2), (5, 3), (0, 7), (3, 1)]\n"
      ],
      "metadata": {
        "id": "SzN7we7Txgek"
      }
    },
    {
      "cell_type": "code",
      "source": [
        "points = [(1, 2), (5, 3), (0, 7), (3, 1)]\n",
        "sorted_points = sorted(points,key=lambda x:sum(x))\n",
        "#The sorted() function sorts the points list based on a custom sorting key.\n",
        "#Each tuple x is passed to the lambda function, and sum(x) calculates the sum of elements in the tuple\n",
        "print(sorted_points)"
      ],
      "metadata": {
        "colab": {
          "base_uri": "https://localhost:8080/"
        },
        "id": "v8Z5BGQMxqI3",
        "outputId": "3da9055e-02c7-4acf-c183-e40d1cc38111"
      },
      "execution_count": 12,
      "outputs": [
        {
          "output_type": "stream",
          "name": "stdout",
          "text": [
            "[(1, 2), (3, 1), (0, 7), (5, 3)]\n"
          ]
        }
      ]
    },
    {
      "cell_type": "markdown",
      "source": [
        "**Exercise 6 :**\n",
        "\n",
        "Write a python function, which will find all such numbers between 1000 and 3000 (both included) such that each digit of the number is an even number. Return the results as a list\n"
      ],
      "metadata": {
        "id": "3jkOTjCLz6bG"
      }
    },
    {
      "cell_type": "code",
      "source": [
        "def is_even_digits(number):\n",
        "  number = str(number)\n",
        "  #For each number, it converts it to a string to iterate over its digits.\n",
        "  #It uses a generator expression and the all() function to check if each digit of the number is even.\n",
        "  return all(int(digit) % 2 == 0 for digit in number)\n",
        "\n",
        "even_digit_numbers = list(filter(lambda x:is_even_digits(x),range(1000,3001)))\n",
        "#We use filter() with a lambda function to filter numbers from range(1000, 3001) based on the condition defined in is_even_digits.\n",
        "#filter() returns an iterator, so we convert it to a list to print the result.\n",
        "print(even_digit_numbers)"
      ],
      "metadata": {
        "colab": {
          "base_uri": "https://localhost:8080/"
        },
        "id": "Vwmj_KrBz_qD",
        "outputId": "270a1722-7f6d-4194-8eaf-27fb604c5461"
      },
      "execution_count": 13,
      "outputs": [
        {
          "output_type": "stream",
          "name": "stdout",
          "text": [
            "[2000, 2002, 2004, 2006, 2008, 2020, 2022, 2024, 2026, 2028, 2040, 2042, 2044, 2046, 2048, 2060, 2062, 2064, 2066, 2068, 2080, 2082, 2084, 2086, 2088, 2200, 2202, 2204, 2206, 2208, 2220, 2222, 2224, 2226, 2228, 2240, 2242, 2244, 2246, 2248, 2260, 2262, 2264, 2266, 2268, 2280, 2282, 2284, 2286, 2288, 2400, 2402, 2404, 2406, 2408, 2420, 2422, 2424, 2426, 2428, 2440, 2442, 2444, 2446, 2448, 2460, 2462, 2464, 2466, 2468, 2480, 2482, 2484, 2486, 2488, 2600, 2602, 2604, 2606, 2608, 2620, 2622, 2624, 2626, 2628, 2640, 2642, 2644, 2646, 2648, 2660, 2662, 2664, 2666, 2668, 2680, 2682, 2684, 2686, 2688, 2800, 2802, 2804, 2806, 2808, 2820, 2822, 2824, 2826, 2828, 2840, 2842, 2844, 2846, 2848, 2860, 2862, 2864, 2866, 2868, 2880, 2882, 2884, 2886, 2888]\n"
          ]
        }
      ]
    },
    {
      "cell_type": "markdown",
      "source": [
        "**Exercise 7 :**\n",
        "\n",
        "Write a python function that accepts a sentence and calculate and return the number of letters and digits.\n",
        "\n",
        "Suppose the following input is supplied to the program:\n",
        "\n",
        "hello world! 123\n",
        "\n",
        "Then, the output should be:\n",
        "\n",
        "LETTERS 10\n",
        "\n",
        "DIGITS 3\n"
      ],
      "metadata": {
        "id": "ujS1jiOz7jRJ"
      }
    },
    {
      "cell_type": "code",
      "source": [
        "def digit_letter_count(sentence):\n",
        "  digits = sum(map(lambda x:x.isdigit(),sentence))\n",
        "  letters = sum(map(lambda x:x.isalpha(),sentence))\n",
        "  #we use the map() function along with lambda functions to apply the isalpha() and isdigit() methods to each character in the sentence.\n",
        "  #The sum() function is used to count the number of True values returned by the lambda functions, which correspond to letters and digits.\n",
        "  return digits,letters\n",
        "\n",
        "sentence = \"hello world! 123\"\n",
        "digits,letters = digit_letter_count(sentence)\n",
        "print(\"LETTERS\", letters)\n",
        "print(\"DIGITS\", digits)"
      ],
      "metadata": {
        "colab": {
          "base_uri": "https://localhost:8080/"
        },
        "id": "Uub_cY0j7t_x",
        "outputId": "a1e069a3-7813-4be9-ad6b-ebad645fe91d"
      },
      "execution_count": 15,
      "outputs": [
        {
          "output_type": "stream",
          "name": "stdout",
          "text": [
            "LETTERS 10\n",
            "DIGITS 3\n"
          ]
        }
      ]
    },
    {
      "cell_type": "markdown",
      "source": [
        "**Exercise 8 **\n",
        "\n",
        " MAP:\n",
        "Write a Python program to convert all the characters into uppercase and lowercase and eliminate duplicate letters from a given sequence. Use the map() function\n"
      ],
      "metadata": {
        "id": "yilgUHqw_E_a"
      }
    },
    {
      "cell_type": "code",
      "source": [
        "def convert_uppercase(sequence):\n",
        "  upper_sequence = list(map(str.upper,sequence))\n",
        "  #we use map() to convert all characters to uppercase and lowercase.\n",
        "  unique_uppercase =set(upper_sequence)\n",
        "  #Then, we convert all_chars to a set to eliminate duplicate characters.\n",
        "  sorted_unique_uppercase =  sorted(unique_uppercase,key=lambda x:upper_sequence.index(x))\n",
        "  #We then use the sorted() function with a custom key function. The key function takes each unique character x and returns its index in the original list all_chars.\n",
        "  return sorted_unique_uppercase\n",
        "  #This way, the characters are sorted based on their original order in the sequence.\n",
        "\n",
        "def convert_lowercase(sequence):\n",
        "  lower_sequence = list(map(str.lower,sequence))\n",
        "  unique_lowercase = set(lower_sequence)\n",
        "  sorted_unique_lowercase = sorted(unique_lowercase,key=lambda x:lower_sequence.index(x))\n",
        "  return sorted_unique_lowercase\n",
        "\n",
        "sequence = \"helloWorld\"\n",
        "upper_result = convert_uppercase(sequence)\n",
        "print(f\"Sequence in uppercase {upper_result}\")\n",
        "lower_result = convert_lowercase(sequence)\n",
        "print(f\"Sequence in lowercase {lower_result}\")"
      ],
      "metadata": {
        "colab": {
          "base_uri": "https://localhost:8080/"
        },
        "id": "Ysvk2L24_Kq7",
        "outputId": "df47593b-fe96-4557-c55e-f1358fc49efa"
      },
      "execution_count": 24,
      "outputs": [
        {
          "output_type": "stream",
          "name": "stdout",
          "text": [
            "Sequence in uppercase ['H', 'E', 'L', 'O', 'W', 'R', 'D']\n",
            "Sequence in lowercase ['h', 'e', 'l', 'o', 'w', 'r', 'd']\n"
          ]
        }
      ]
    }
  ]
}