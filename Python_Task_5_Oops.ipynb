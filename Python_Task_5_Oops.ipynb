{
  "nbformat": 4,
  "nbformat_minor": 0,
  "metadata": {
    "colab": {
      "provenance": [],
      "authorship_tag": "ABX9TyOw8CceCTKHZ36VWg42SeU8",
      "include_colab_link": true
    },
    "kernelspec": {
      "name": "python3",
      "display_name": "Python 3"
    },
    "language_info": {
      "name": "python"
    }
  },
  "cells": [
    {
      "cell_type": "markdown",
      "metadata": {
        "id": "view-in-github",
        "colab_type": "text"
      },
      "source": [
        "<a href=\"https://colab.research.google.com/github/thomasanna/python-entri/blob/main/Python_Task_5_Oops.ipynb\" target=\"_parent\"><img src=\"https://colab.research.google.com/assets/colab-badge.svg\" alt=\"Open In Colab\"/></a>"
      ]
    },
    {
      "cell_type": "code",
      "execution_count": null,
      "metadata": {
        "id": "uvT57z9hFjHZ"
      },
      "outputs": [],
      "source": []
    },
    {
      "cell_type": "markdown",
      "source": [
        "1.  Write a Python program to create a class representing a Circle. Include methods to calculate its area and perimeter."
      ],
      "metadata": {
        "id": "geFDKoLzFxyp"
      }
    },
    {
      "cell_type": "code",
      "source": [
        "import math\n",
        "class Circle:\n",
        "   def __init__(self,radious):  #__init__ method  initialize the radius\n",
        "      self.r = radious\n",
        "   def area(self):\n",
        "       return math.pi * (self.r ** 2)\n",
        "   def perimeter(self):\n",
        "       return 2 * math.pi * self.r\n",
        "\n",
        "radious = float(input('Enter radious'))\n",
        "circle = Circle(radious)\n",
        "\n",
        "print(f\"Area of the circle is {circle.area()}\")\n",
        "print(f\"Perimeter of the circle is {circle.perimeter()}\")"
      ],
      "metadata": {
        "colab": {
          "base_uri": "https://localhost:8080/"
        },
        "id": "ibH1IhYtFzdx",
        "outputId": "b04c5fba-eca3-43a7-94ba-8a19da77556e"
      },
      "execution_count": 3,
      "outputs": [
        {
          "output_type": "stream",
          "name": "stdout",
          "text": [
            "Enter radious3\n",
            "Area of the circle is 28.274333882308138\n",
            "Perimeter of the circle is 18.84955592153876\n"
          ]
        }
      ]
    },
    {
      "cell_type": "markdown",
      "source": [
        "2. Write a Python program to create a calculator class. Include methods for basic arithmetic operations."
      ],
      "metadata": {
        "id": "CHLWxa5aKzBg"
      }
    },
    {
      "cell_type": "code",
      "source": [
        "class Calculator:\n",
        "   def add(self,a,b):\n",
        "       return a+b\n",
        "   def subtract (self,a,b):\n",
        "       return a-b\n",
        "   def multiply(self,a,b):\n",
        "       return a*b\n",
        "   def divide(self,a,b):\n",
        "      return a/b\n",
        "\n",
        "a= float(input(\"Enter first number\"))\n",
        "b = float(input(\"Enter second number\"))\n",
        "if a =='' or b =='':\n",
        "   print('Please enter numbers')\n",
        "else:\n",
        "  operation = input(\"Select operation - add, subtract,multiply or divide\").strip().lower()\n",
        "\n",
        "  calc = Calculator()\n",
        "\n",
        "  if operation == 'add':\n",
        "    result = calc.add(a,b)\n",
        "  elif operation == 'subtract':\n",
        "    result = calc.subtract(a,b)\n",
        "  elif operation == 'multiply':\n",
        "    result = calc.multiply(a,b)\n",
        "  elif operation == 'divide':\n",
        "    result = a/b\n",
        "  else:\n",
        "    result = \"Please select valid operation\"\n",
        "\n",
        "  print(f\"Result : {result}\")\n"
      ],
      "metadata": {
        "colab": {
          "base_uri": "https://localhost:8080/"
        },
        "id": "5yzFTGD-K0H4",
        "outputId": "d4cd631f-b37c-4f29-c956-c7ab1772e95b"
      },
      "execution_count": 8,
      "outputs": [
        {
          "output_type": "stream",
          "name": "stdout",
          "text": [
            "Enter first number6\n",
            "Enter second number4\n",
            "Select operation - add, subtract,multiply or dividemultiply\n",
            "Result : 24.0\n"
          ]
        }
      ]
    },
    {
      "cell_type": "code",
      "source": [],
      "metadata": {
        "id": "GLLHWzPeJkbz"
      },
      "execution_count": 8,
      "outputs": []
    },
    {
      "cell_type": "markdown",
      "source": [
        "3. Write a Python program to create a class that represents a shape. Include methods to calculate its area and perimeter. Implement subclasses for different shapes like circle, triangle, and square."
      ],
      "metadata": {
        "id": "IaxqnSsEU9O5"
      }
    },
    {
      "cell_type": "code",
      "source": [
        "import math\n",
        "class Shape:\n",
        "   def area(self):\n",
        "      raise NotImplementedError(\"This method should be overridden by subclasses\")\n",
        "   def perimeter(self):\n",
        "      raise NotImplementedError(\"This method should be overridden by subclasses\")\n",
        "\n",
        "class Circle(Shape):\n",
        "    def __init__(self,radious):\n",
        "       self.r = radious\n",
        "    def area(self):\n",
        "       return math.pi * (self.r ** 2)\n",
        "    def perimeter(self):\n",
        "       return 2 * math.pi * self.r\n",
        "\n",
        "class Triangle(Shape):\n",
        "   def __init__(self,height,a,b,c):\n",
        "      self.a = a\n",
        "      self.b = b\n",
        "      self.c = c\n",
        "      self.h = height\n",
        "   def area(self):\n",
        "      return (self.b * self.h)/2\n",
        "   def perimeter(self):\n",
        "      return self.a + self.b + self.c\n",
        "\n",
        "class Square(Shape):\n",
        "   def __init__(self,a):\n",
        "      self.a = a\n",
        "   def area(self):\n",
        "      return self.a ** 2\n",
        "   def perimeter(self):\n",
        "      return 4 * self.a\n",
        "\n",
        "circle = Circle(10)\n",
        "print(\"Circle:\")\n",
        "print(f\"Area: {circle.area()}\")\n",
        "print(f\"Perimeter: {circle.perimeter()}\")\n",
        "\n",
        "triangle = Triangle(5,2,4,7)\n",
        "print(\"Triangle:\")\n",
        "print(f\"Area: {triangle.area()}\")\n",
        "print(f\"Perimeter: {triangle.perimeter()}\")\n",
        "\n",
        "square = Square(5)\n",
        "print(\"Square:\")\n",
        "print(f\"Area: {square.area()}\")\n",
        "print(f\"Perimeter: {square.perimeter()}\")\n",
        "\n",
        ""
      ],
      "metadata": {
        "colab": {
          "base_uri": "https://localhost:8080/"
        },
        "id": "u_Izv63UVAJC",
        "outputId": "2c7e36c2-4a00-48d5-8344-6ca1f12301de"
      },
      "execution_count": 13,
      "outputs": [
        {
          "output_type": "stream",
          "name": "stdout",
          "text": [
            "Circle:\n",
            "Area: 314.1592653589793\n",
            "Perimeter: 62.83185307179586\n",
            "Triangle:\n",
            "Area: 10.0\n",
            "Perimeter: 13\n",
            "Square:\n",
            "Area: 25\n",
            "Perimeter: 20\n"
          ]
        }
      ]
    }
  ]
}