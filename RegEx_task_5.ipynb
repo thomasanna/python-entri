{
  "nbformat": 4,
  "nbformat_minor": 0,
  "metadata": {
    "colab": {
      "provenance": [],
      "authorship_tag": "ABX9TyOcB24MHwkmE5IOU0Ivl7Qh",
      "include_colab_link": true
    },
    "kernelspec": {
      "name": "python3",
      "display_name": "Python 3"
    },
    "language_info": {
      "name": "python"
    }
  },
  "cells": [
    {
      "cell_type": "markdown",
      "metadata": {
        "id": "view-in-github",
        "colab_type": "text"
      },
      "source": [
        "<a href=\"https://colab.research.google.com/github/thomasanna/python-entri/blob/main/RegEx_task_5.ipynb\" target=\"_parent\"><img src=\"https://colab.research.google.com/assets/colab-badge.svg\" alt=\"Open In Colab\"/></a>"
      ]
    },
    {
      "cell_type": "markdown",
      "source": [
        "Write a Python program to check that a string contains only a certain set of characters (in this case a-z, A-Z and 0-9)."
      ],
      "metadata": {
        "id": "_4cv1vfX8YbB"
      }
    },
    {
      "cell_type": "code",
      "source": [
        "import re\n",
        "def isValidString(s):\n",
        "   pattern = re.compile(r'^[a-zA-Z0-9]*$')\n",
        "   # ^  the start of the string.\n",
        "   # [a-zA-Z0-9] matches any character from a-z, A-Z, or 0-9.\n",
        "   # * allows for zero or more occurrences of the preceding element.\n",
        "   # $ the end of the string.\n",
        "   if(pattern.match(s)):\n",
        "      return True\n",
        "   else:\n",
        "     return False\n",
        "\n",
        "s = 'Hello123World'\n",
        "if isValidString(s):\n",
        "    print(f\"{s} contains only allowed characters\")\n",
        "else:\n",
        "  print(f\"{s} is invalid string\")"
      ],
      "metadata": {
        "colab": {
          "base_uri": "https://localhost:8080/"
        },
        "id": "vIx3hmjP8fKi",
        "outputId": "fc8c2ab5-7637-43fd-f9b6-b439fe75161a"
      },
      "execution_count": null,
      "outputs": [
        {
          "output_type": "stream",
          "name": "stdout",
          "text": [
            "Hello123World contains only allowed characters\n"
          ]
        }
      ]
    },
    {
      "cell_type": "markdown",
      "source": [
        "2 Write a Python program that matches a string that has an a followed by zero or more b's."
      ],
      "metadata": {
        "id": "sYfPXlaa9jd8"
      }
    },
    {
      "cell_type": "code",
      "source": [
        "import re\n",
        "def isValidString(s):\n",
        "   pattern = re.compile(r'^ab*$')\n",
        "   return bool(pattern.match(s))\n",
        "\n",
        "string = \"ab\"\n",
        "if isValidString(string):\n",
        "   print(f\"{string} is valid string\")\n",
        "else:\n",
        "   print(f\"{string} is not valid string\")"
      ],
      "metadata": {
        "colab": {
          "base_uri": "https://localhost:8080/"
        },
        "id": "X-BF-6vn9lUA",
        "outputId": "69ee8301-7aad-428c-f395-23518d31424b"
      },
      "execution_count": null,
      "outputs": [
        {
          "output_type": "stream",
          "name": "stdout",
          "text": [
            "ab is valid string\n"
          ]
        }
      ]
    },
    {
      "cell_type": "markdown",
      "source": [
        "3. Replace only the first occurrence of 5 with five for the given string"
      ],
      "metadata": {
        "id": "vqLajBwJFPw4"
      }
    },
    {
      "cell_type": "code",
      "source": [
        "import re\n",
        "def replaceString(s):\n",
        "   return re.sub(r'5','five',s,count =1) #Replace the first 1 occurrences\n",
        "\n",
        "s= \"They ate 5 apples and 5 oranges\"\n",
        "result = replaceString(s)\n",
        "print(result)\n"
      ],
      "metadata": {
        "colab": {
          "base_uri": "https://localhost:8080/"
        },
        "id": "lboqnh8vFSo9",
        "outputId": "48f0468a-af27-4478-ae86-f7eed0c9b192"
      },
      "execution_count": null,
      "outputs": [
        {
          "output_type": "stream",
          "name": "stdout",
          "text": [
            "They ate five apples and 5 oranges\n"
          ]
        }
      ]
    },
    {
      "cell_type": "markdown",
      "source": [
        "\n",
        "5. Write a Python program that matches a string that has an a followed by three 'b'.\n",
        "\n"
      ],
      "metadata": {
        "id": "V22y-hghJG_A"
      }
    },
    {
      "cell_type": "code",
      "source": [
        "import re\n",
        "def isValidString(s):\n",
        "   pattern = re.compile(r'a{1}b{3}')\n",
        "   return bool(pattern.search(s)) #The search method checks if the pattern appears anywhere in the string s.\n",
        "\n",
        "s = 'dabbb'\n",
        "if isValidString(s):\n",
        "    print(f\"{s} is a valid string\")\n",
        "else:\n",
        "    print(f'{s} is invalid string')"
      ],
      "metadata": {
        "id": "pD2d_enQJKVY",
        "colab": {
          "base_uri": "https://localhost:8080/"
        },
        "outputId": "4ee1ef22-eaf8-45d1-e45c-db270773fdab"
      },
      "execution_count": null,
      "outputs": [
        {
          "output_type": "stream",
          "name": "stdout",
          "text": [
            "dabbb is a valid string\n"
          ]
        }
      ]
    },
    {
      "cell_type": "markdown",
      "source": [
        "6. Write a Python program to search for numbers (0-9) of length between 1 and 3\n",
        "in a given string."
      ],
      "metadata": {
        "id": "cfBhhMz0Q5jL"
      }
    },
    {
      "cell_type": "code",
      "source": [
        "import re\n",
        "def findNumbers(s):\n",
        "  pattern = re.compile(r'\\b\\d{1,3}\\b')\n",
        "  #\\b is a word boundary anchor to ensure we match whole numbers and not parts of longer numbers.\n",
        "  #\\d{1,3} matches between 1 and 3 digits.\n",
        "  #The findall method returns all matches of the pattern in the given text as a list.\n",
        "  matches = pattern.findall(s)\n",
        "  return matches\n",
        "\n",
        "s = 'Exercises number 1, 12, 13, and 345 are important'\n",
        "result = findNumbers(s)\n",
        "print(result)"
      ],
      "metadata": {
        "id": "emNMim6JQ89g",
        "colab": {
          "base_uri": "https://localhost:8080/"
        },
        "outputId": "ba4ecc8f-72f0-4690-c8f9-4b1d5f7ff60b"
      },
      "execution_count": null,
      "outputs": [
        {
          "output_type": "stream",
          "name": "stdout",
          "text": [
            "['1', '12', '13', '345']\n"
          ]
        }
      ]
    },
    {
      "cell_type": "markdown",
      "source": [
        "7.Write a Python program to search for literal strings within a string.\n",
        "Sample text : 'The quick brown fox jumps over the lazy dog.'\n",
        "Searched words : 'fox', 'dog', 'horse'"
      ],
      "metadata": {
        "id": "k2GyMfHWTFm2"
      }
    },
    {
      "cell_type": "code",
      "source": [
        "import re\n",
        "def searchWords(text,words):\n",
        "   results = {}\n",
        "   for word in words:\n",
        "\n",
        "      if re.search(rf\"\\b{word}\\b\", text):\n",
        "         results[word] = True\n",
        "      else:\n",
        "         results[word] = False\n",
        "   return results\n",
        "\n",
        "text = 'The quick brown fox jumps over the lazy dog .'\n",
        "words = ['fox', 'dog', 'horse']\n",
        "result = searchWords(text,words)\n",
        "for word, found in result.items():\n",
        "    print(f\"'{word}' found: {found}\")"
      ],
      "metadata": {
        "id": "6nG7X9YyTJRV",
        "colab": {
          "base_uri": "https://localhost:8080/"
        },
        "outputId": "5cccf941-d0c9-4e84-db25-c3920b6c1e11"
      },
      "execution_count": null,
      "outputs": [
        {
          "output_type": "stream",
          "name": "stdout",
          "text": [
            "'fox' found: True\n",
            "'dog' found: True\n",
            "'horse' found: False\n"
          ]
        }
      ]
    },
    {
      "cell_type": "markdown",
      "source": [
        "8. Write a Python program to search for a literal string in a string and also find the location within the original string where the pattern occurs.\n",
        "\n",
        "    Sample text : 'The quick brown fox jumps over the lazy dog.'\n",
        "\n",
        "    Searched words : 'fox'"
      ],
      "metadata": {
        "id": "mL42UgKUW4UC"
      }
    },
    {
      "cell_type": "code",
      "source": [
        "import re\n",
        "def findStringwithLocation(text,word):\n",
        "   pattern = re.compile(rf\"\\b{word}\\b\")\n",
        "   match = pattern.search(text)\n",
        "   if match:\n",
        "      return match.start(),match.end()\n",
        "   else:\n",
        "      return None\n",
        "\n",
        "text = 'The quick brown fox jumps over the lazy dog'\n",
        "word = 'fox'\n",
        "location = findStringwithLocation(text,word)\n",
        "if location:\n",
        "    print(f\"'{word}' found at : {location}\")\n",
        "else:\n",
        "    print(f\"'{word}' not found in the text.\")"
      ],
      "metadata": {
        "id": "GvCxVkxUW8dG",
        "colab": {
          "base_uri": "https://localhost:8080/"
        },
        "outputId": "163bc70b-0415-4246-bc32-e490ca0f29ad"
      },
      "execution_count": null,
      "outputs": [
        {
          "output_type": "stream",
          "name": "stdout",
          "text": [
            "'fox' found at indices: 16 to 18\n"
          ]
        }
      ]
    },
    {
      "cell_type": "markdown",
      "source": [
        "9. Write a Python program to extract year, month and date from an URL\n",
        "   \n",
        "   import re\n",
        "   \n",
        "url1= \"https://www.washingtonpost.com/news/football-insider/wp/2016/09/02/odell-beckhams-fame-rests-on-one-stupid-little-ball-josh-norman-tells-author/\""
      ],
      "metadata": {
        "id": "rtZV1zvtandr"
      }
    },
    {
      "cell_type": "code",
      "source": [
        "import re\n",
        "def extractDate(url):\n",
        "   pattern = re.compile(r'/(\\d{4})/(\\d{2})/(\\d{2})/')\n",
        "   match = pattern.search(url)\n",
        "   if match:\n",
        "       year,month,day = match.groups()\n",
        "       full_date = f'{year}/{month}/{day}'\n",
        "       return full_date,year, month, day\n",
        "   else:\n",
        "        return None\n",
        "\n",
        "url = \"https://www.washingtonpost.com/news/football-insider/wp/2016/09/02/odell-beckhams-fame-rests-on-one-stupid-little-ball-josh-norman-tells-author/\"\n",
        "date = extractDate(url)\n",
        "\n",
        "if date:\n",
        "    print(date)\n",
        "else:\n",
        "    print(\"No date found in the URL.\")"
      ],
      "metadata": {
        "colab": {
          "base_uri": "https://localhost:8080/"
        },
        "id": "43AfXOrUawFA",
        "outputId": "12f91064-f7bc-4bb0-b5e2-9d7ea0f7d1d1"
      },
      "execution_count": null,
      "outputs": [
        {
          "output_type": "stream",
          "name": "stdout",
          "text": [
            "('2016/09/02', '2016', '09', '02')\n"
          ]
        }
      ]
    },
    {
      "cell_type": "markdown",
      "source": [
        "10. Write a Python program to find URLs in a string."
      ],
      "metadata": {
        "id": "GeCJWe6PiwHe"
      }
    },
    {
      "cell_type": "markdown",
      "source": [],
      "metadata": {
        "id": "Xk7xLScShq_1"
      }
    },
    {
      "cell_type": "code",
      "source": [
        "import re\n",
        "\n",
        "def find_urls(text):\n",
        "    url_pattern = re.compile(r'href=\"(http[s]?://[^\"]+)\"')\n",
        "    # http[s]?://: Matches http:// or https://.\n",
        "    # [^\"]+: Matches one or more characters that are not a double quote (\"), effectively capturing the URL.\n",
        "    urls = url_pattern.findall(text)\n",
        "    return urls\n",
        "\n",
        "\n",
        "text = '<p>Contents :</p><a href=\"https://w3resource.com\">Python Examples</a><a href=\"http://github.com\">Even More Examples</a>'\n",
        "\n",
        "urls = find_urls(text)\n",
        "print(urls)"
      ],
      "metadata": {
        "colab": {
          "base_uri": "https://localhost:8080/"
        },
        "id": "ctGCuoMunTZS",
        "outputId": "fcc83570-98ca-44f6-94e4-1dfd98e9c02e"
      },
      "execution_count": null,
      "outputs": [
        {
          "output_type": "stream",
          "name": "stdout",
          "text": [
            "['https://w3resource.com', 'http://github.com']\n"
          ]
        }
      ]
    },
    {
      "cell_type": "markdown",
      "source": [
        "Write a Python program to remove the parenthesis area in a string.\\\n",
        "\n",
        "Sample data : [\"example (.com)\", \"w3resource\", \"github (.com)\", \"stackoverflow (.com)\"]\n",
        "\n",
        "Expected Output:\n",
        "\n",
        "example\n",
        "\n",
        "w3resource\n",
        "\n",
        "github\n",
        "\n",
        "stackoverflow."
      ],
      "metadata": {
        "id": "zQOuQ3nRntIS"
      }
    },
    {
      "cell_type": "code",
      "source": [
        "import re\n",
        "\n",
        "def remove_parentheses(text):\n",
        "    pattern = re.compile(r'\\s*\\(.*?\\)\\s*')\n",
        "    # \\s*: Matches zero or more whitespace characters.\n",
        "    # \\(.*?\\): Matches the opening parenthesis (, any characters .*? , and the closing parenthesis ).\n",
        "    # \\s*: Matches zero or more whitespace characters after the parentheses.\n",
        "    return pattern.sub('', text).strip()\n",
        "\n",
        "# Sample data\n",
        "data = [\"example (.com)\", \"w3resource\", \"github (.com)\", \"stackoverflow (.com)\"]\n",
        "\n",
        "# Apply the function to each item in the list and print the results\n",
        "results = [remove_parentheses(item) for item in data]\n",
        "for item in results:\n",
        "    print(item)"
      ],
      "metadata": {
        "colab": {
          "base_uri": "https://localhost:8080/"
        },
        "id": "pjlxUnWwnz4W",
        "outputId": "5bb9057b-abee-4c97-a522-151941759964"
      },
      "execution_count": null,
      "outputs": [
        {
          "output_type": "stream",
          "name": "stdout",
          "text": [
            "example\n",
            "w3resource\n",
            "github\n",
            "stackoverflow\n"
          ]
        }
      ]
    },
    {
      "cell_type": "markdown",
      "source": [
        "12. Write a Python program to concatenate the consecutive numbers in a given string.\n",
        "\n",
        "Original string:\n",
        "\n",
        "Enter at 1 20 Kearny Street. The security desk can direct you to floor 1 6. Please have your identification ready.\n",
        "\n",
        "After concatenating the consecutive numbers in the said string:\n",
        "Enter at 120 Kearny Street. The security desk can direct you to floor 16. Please have your identification ready."
      ],
      "metadata": {
        "id": "-rDG2Ml5o9or"
      }
    },
    {
      "cell_type": "code",
      "source": [
        "import re\n",
        "\n",
        "def concatenate_consecutive_numbers(text):\n",
        "    # \\b\\d+\\b: Matches one or more digits (\\d+) surrounded by word boundaries (\\b), ensuring that it matches whole numbers.\n",
        "    # \\s+: Matches one or more whitespace characters between the consecutive numbers.\n",
        "    pattern = re.compile(r'(\\b\\d+\\b)\\s+(\\b\\d+\\b)')\n",
        "    #Use re.sub to replace each occurrence of the pattern with a lambda function that concatenates the two consecutive numbers.\n",
        "\n",
        "    result = re.sub(pattern, lambda x: x.group(1) + x.group(2), text)\n",
        "    return result\n",
        "\n",
        "# Original string\n",
        "original_string = \"Enter at 1 20 Kearny Street. The security desk can direct you to floor 1 6. Please have your identification ready.\"\n",
        "\n",
        "# Concatenate consecutive numbers\n",
        "concatenated_string = concatenate_consecutive_numbers(original_string)\n",
        "\n",
        "# Print the result\n",
        "print(\"Original string:\")\n",
        "print(original_string)\n",
        "print(\"\\nAfter concatenating the consecutive numbers in the said string:\")\n",
        "print(concatenated_string)"
      ],
      "metadata": {
        "colab": {
          "base_uri": "https://localhost:8080/"
        },
        "id": "l1RoK6rzpCv6",
        "outputId": "76a93954-547d-4305-ad36-3d6005747602"
      },
      "execution_count": null,
      "outputs": [
        {
          "output_type": "stream",
          "name": "stdout",
          "text": [
            "Original string:\n",
            "Enter at 1 20 Kearny Street. The security desk can direct you to floor 1 6. Please have your identification ready.\n",
            "\n",
            "After concatenating the consecutive numbers in the said string:\n",
            "Enter at 120 Kearny Street. The security desk can direct you to floor 16. Please have your identification ready.\n"
          ]
        }
      ]
    }
  ]
}