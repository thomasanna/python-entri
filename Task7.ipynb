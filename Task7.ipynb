{
  "cells": [
    {
      "cell_type": "markdown",
      "metadata": {
        "colab_type": "text",
        "id": "view-in-github"
      },
      "source": [
        "<a href=\"https://colab.research.google.com/github/thomasanna/python-entri/blob/main/Task7.ipynb\" target=\"_parent\"><img src=\"https://colab.research.google.com/assets/colab-badge.svg\" alt=\"Open In Colab\"/></a>"
      ]
    },
    {
      "cell_type": "markdown",
      "metadata": {
        "id": "SLVd9c8KBvRx"
      },
      "source": [
        "**NumPy**"
      ]
    },
    {
      "cell_type": "markdown",
      "metadata": {
        "id": "Sgs7TEqAB2dy"
      },
      "source": [
        "1. How to extract all odd numbers from arr?\n",
        "\n",
        "\n",
        "\n",
        "\n",
        "\n"
      ]
    },
    {
      "cell_type": "code",
      "execution_count": null,
      "metadata": {
        "colab": {
          "base_uri": "https://localhost:8080/"
        },
        "id": "_htkEwODB3fz",
        "outputId": "b9e5bcff-a84b-44cd-e8c8-fb0d0fa31d3c"
      },
      "outputs": [
        {
          "name": "stdout",
          "output_type": "stream",
          "text": [
            "[1 3 5 7 9]\n"
          ]
        }
      ],
      "source": [
        "import numpy as np\n",
        "arr = np.array([0, 1, 2, 3, 4, 5, 6, 7, 8, 9])\n",
        "condition = np.mod(arr,2) != 0 # np.mod => get the reminder of each element of in array\n",
        "odd_numbers = np.extract(condition,arr)\n",
        "print(odd_numbers)"
      ]
    },
    {
      "cell_type": "markdown",
      "metadata": {
        "id": "SilGo64qltm8"
      },
      "source": [
        "2. Replace all odd numbers in arr with -1 without changing"
      ]
    },
    {
      "cell_type": "code",
      "execution_count": null,
      "metadata": {
        "colab": {
          "base_uri": "https://localhost:8080/"
        },
        "id": "s8sLUnoilwmb",
        "outputId": "6cbc5432-b88a-4ad7-a6d0-947a03e148dc"
      },
      "outputs": [
        {
          "name": "stdout",
          "output_type": "stream",
          "text": [
            "[ 0 -1  2 -1  4 -1  6 -1  8 -1]\n"
          ]
        }
      ],
      "source": [
        "import numpy as np\n",
        "arr = np.array([0, 1, 2, 3, 4, 5, 6, 7, 8, 9])\n",
        "arr[np.mod(arr,2) != 0 ] = -1\n",
        "print(arr)"
      ]
    },
    {
      "cell_type": "markdown",
      "metadata": {
        "id": "oVL8pKW3msHT"
      },
      "source": [
        "3. Convert a 1D array to a 2D array with 2 rows"
      ]
    },
    {
      "cell_type": "code",
      "execution_count": null,
      "metadata": {
        "colab": {
          "base_uri": "https://localhost:8080/"
        },
        "id": "kZ1Q3gEym7EM",
        "outputId": "cf297b83-8461-4119-fc70-a72957f43b11"
      },
      "outputs": [
        {
          "name": "stdout",
          "output_type": "stream",
          "text": [
            "[[0 1 2 3 4]\n",
            " [5 6 7 8 9]]\n"
          ]
        }
      ],
      "source": [
        "import numpy as np\n",
        "arr=np.arange(10) # create 1D array with values 0 to 9\n",
        "arr2d = arr.reshape(2,-1) # convert 1D array to 2D with 2 rows,\n",
        "# the -1 automatically determines number of columns based on total size\n",
        "print(arr2d)\n",
        "#Desired Output:\n",
        "#> array([[0, 1, 2, 3, 4],\n",
        "#>        [5, 6, 7, 8, 9]])"
      ]
    },
    {
      "cell_type": "markdown",
      "metadata": {
        "id": "3dk3Og6dpKhp"
      },
      "source": [
        "4. Stack arrays a and b vertically"
      ]
    },
    {
      "cell_type": "code",
      "execution_count": 1,
      "metadata": {
        "colab": {
          "base_uri": "https://localhost:8080/"
        },
        "id": "k5aK4SinpN5F",
        "outputId": "b2a1b381-3958-4c35-ad7a-21cd7718c43f"
      },
      "outputs": [
        {
          "name": "stdout",
          "output_type": "stream",
          "text": [
            "a => [[0 1 2 3 4]\n",
            " [5 6 7 8 9]]\n",
            "b => [[1 1 1 1 1]\n",
            " [1 1 1 1 1]]\n",
            "stackedArray : [[0 1 2 3 4]\n",
            " [5 6 7 8 9]\n",
            " [1 1 1 1 1]\n",
            " [1 1 1 1 1]]\n"
          ]
        }
      ],
      "source": [
        "import numpy as np\n",
        "a = np.arange(10).reshape(2,-1)\n",
        "print(f\"a => {a}\")\n",
        "b = np.repeat(1, 10).reshape(2,-1) # np.repeat => here 1 repeated 10 times [1, 1, 1, 1, 1, 1, 1, 1, 1, 1]\n",
        "print(f\"b => {b}\")\n",
        "stackedArray = np.vstack((a,b)) #np.vstack stacks arrays vertically, meaning it stacks them on top of each other.\n",
        "#(a,b) is a tuple containing 2 arrays a and b\n",
        "print(f\"stackedArray : {stackedArray}\" )\n",
        "#Desired Output:()\n",
        "\n",
        "#> array([[0, 1, 2, 3, 4],\n",
        "#>        [5, 6, 7, 8, 9],\n",
        "#>        [1, 1, 1, 1, 1],\n",
        "#>        [1, 1, 1, 1, 1]])"
      ]
    },
    {
      "cell_type": "markdown",
      "metadata": {},
      "source": [
        "5. Stack the arrays a and b horizontally."
      ]
    },
    {
      "cell_type": "code",
      "execution_count": 5,
      "metadata": {},
      "outputs": [
        {
          "name": "stdout",
          "output_type": "stream",
          "text": [
            "[[0 1 2 3 4 1 1 1 1 1]\n",
            " [5 6 7 8 9 1 1 1 1 1]]\n"
          ]
        }
      ],
      "source": [
        "import numpy as np\n",
        "a = np.arange(10).reshape(2,-1)\n",
        "b = np.repeat(1, 10).reshape(2,-1)\n",
        "stackedArray = np.hstack((a,b))\n",
        "print(stackedArray)\n",
        "\n",
        "#Desired Output:\n",
        "\n",
        "#> array([[0, 1, 2, 3, 4, 1, 1, 1, 1, 1],\n",
        "#>        [5, 6, 7, 8, 9, 1, 1, 1, 1, 1]])"
      ]
    },
    {
      "cell_type": "markdown",
      "metadata": {},
      "source": [
        "6. How to get the common items between two python numpy arrays?\n",
        "   Get the common items between a and b"
      ]
    },
    {
      "cell_type": "code",
      "execution_count": 7,
      "metadata": {},
      "outputs": [
        {
          "name": "stdout",
          "output_type": "stream",
          "text": [
            "Common Items [2 4]\n"
          ]
        }
      ],
      "source": [
        "import numpy as np\n",
        "a = np.array([1,2,3,2,3,4,3,4,5,6])\n",
        "b = np.array([7,2,10,2,7,4,9,4,9,8])\n",
        "common_items = np.intersect1d(a,b) #This function returns the sorted unique common elements that are present in both arrays\n",
        "print(f\"Common Items {common_items}\")"
      ]
    },
    {
      "cell_type": "markdown",
      "metadata": {},
      "source": [
        "7.How to remove from one array those items that exist in another?\n",
        "  Q. From array a remove all items present in array b"
      ]
    },
    {
      "cell_type": "code",
      "execution_count": 8,
      "metadata": {},
      "outputs": [
        {
          "name": "stdout",
          "output_type": "stream",
          "text": [
            "[1 2 3 4]\n"
          ]
        }
      ],
      "source": [
        "import numpy as np\n",
        "\n",
        "a = np.array([1,2,3,4,5])\n",
        "b = np.array([5,6,7,8,9])\n",
        "result = np.setdiff1d(a,b) #returns the sorted unique values in array a that are not in array b\n",
        "print(result)"
      ]
    },
    {
      "cell_type": "markdown",
      "metadata": {},
      "source": [
        "8. How to get the positions where elements of two arrays match?\n",
        "Q. Get the positions where elements of a and b match"
      ]
    },
    {
      "cell_type": "code",
      "execution_count": 11,
      "metadata": {},
      "outputs": [
        {
          "name": "stdout",
          "output_type": "stream",
          "text": [
            "(array([1, 3, 5, 7], dtype=int64),)\n"
          ]
        }
      ],
      "source": [
        "import numpy as np\n",
        "a = np.array([1,2,3,2,3,4,3,4,5,6])\n",
        "b = np.array([7,2,10,2,7,4,9,4,9,8])\n",
        "matches = np.where(a==b)  #To get the positions where elements of arrays a and b match, you can use the np.where() function in NumPy\n",
        "print(matches)\n",
        "\n",
        "#Desired Output:\n",
        "\n",
        "#> (array([1, 3, 5, 7]),)"
      ]
    },
    {
      "cell_type": "markdown",
      "metadata": {},
      "source": [
        "9. How to extract all numbers between a given range from a numpy array?\n",
        "Get all items between 5 and 10 from a"
      ]
    },
    {
      "cell_type": "code",
      "execution_count": 13,
      "metadata": {},
      "outputs": [
        {
          "name": "stdout",
          "output_type": "stream",
          "text": [
            "items between 5 and 10 : [ 6  9 10]\n"
          ]
        }
      ],
      "source": [
        "import numpy as np\n",
        "\n",
        "a = np.array([2, 6, 1, 9, 10, 3, 27])\n",
        "result = a[(a>=5) & (a<=10)] # Boolean indexing to get items between 5 and 10\n",
        "print(f\"items between 5 and 10 : {result}\")\n",
        "\n",
        "#Desired Output:\n",
        "\n",
        "#(array([6, 9, 10]),)"
      ]
    },
    {
      "cell_type": "markdown",
      "metadata": {},
      "source": []
    }
  ],
  "metadata": {
    "colab": {
      "authorship_tag": "ABX9TyOKLjV8u6My3zKeijoiqxs6",
      "include_colab_link": true,
      "provenance": [],
      "toc_visible": true
    },
    "kernelspec": {
      "display_name": "Python 3",
      "name": "python3"
    },
    "language_info": {
      "codemirror_mode": {
        "name": "ipython",
        "version": 3
      },
      "file_extension": ".py",
      "mimetype": "text/x-python",
      "name": "python",
      "nbconvert_exporter": "python",
      "pygments_lexer": "ipython3",
      "version": "3.12.2"
    }
  },
  "nbformat": 4,
  "nbformat_minor": 0
}
