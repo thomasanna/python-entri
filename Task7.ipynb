{
  "nbformat": 4,
  "nbformat_minor": 0,
  "metadata": {
    "colab": {
      "provenance": [],
      "toc_visible": true,
      "authorship_tag": "ABX9TyOKLjV8u6My3zKeijoiqxs6",
      "include_colab_link": true
    },
    "kernelspec": {
      "name": "python3",
      "display_name": "Python 3"
    },
    "language_info": {
      "name": "python"
    }
  },
  "cells": [
    {
      "cell_type": "markdown",
      "metadata": {
        "id": "view-in-github",
        "colab_type": "text"
      },
      "source": [
        "<a href=\"https://colab.research.google.com/github/thomasanna/python-entri/blob/main/Task7.ipynb\" target=\"_parent\"><img src=\"https://colab.research.google.com/assets/colab-badge.svg\" alt=\"Open In Colab\"/></a>"
      ]
    },
    {
      "cell_type": "markdown",
      "source": [
        "**NumPy**"
      ],
      "metadata": {
        "id": "SLVd9c8KBvRx"
      }
    },
    {
      "cell_type": "markdown",
      "source": [
        "1. How to extract all odd numbers from arr?\n",
        "\n",
        "\n",
        "\n",
        "\n",
        "\n"
      ],
      "metadata": {
        "id": "Sgs7TEqAB2dy"
      }
    },
    {
      "cell_type": "code",
      "source": [
        "import numpy as np\n",
        "arr = np.array([0, 1, 2, 3, 4, 5, 6, 7, 8, 9])\n",
        "condition = np.mod(arr,2) != 0 # np.mod => get the reminder of each element of in array\n",
        "odd_numbers = np.extract(condition,arr)\n",
        "print(odd_numbers)"
      ],
      "metadata": {
        "id": "_htkEwODB3fz",
        "colab": {
          "base_uri": "https://localhost:8080/"
        },
        "outputId": "b9e5bcff-a84b-44cd-e8c8-fb0d0fa31d3c"
      },
      "execution_count": null,
      "outputs": [
        {
          "output_type": "stream",
          "name": "stdout",
          "text": [
            "[1 3 5 7 9]\n"
          ]
        }
      ]
    },
    {
      "cell_type": "markdown",
      "source": [
        "2. Replace all odd numbers in arr with -1 without changing"
      ],
      "metadata": {
        "id": "SilGo64qltm8"
      }
    },
    {
      "cell_type": "code",
      "source": [
        "import numpy as np\n",
        "arr = np.array([0, 1, 2, 3, 4, 5, 6, 7, 8, 9])\n",
        "arr[np.mod(arr,2) != 0 ] = -1\n",
        "print(arr)"
      ],
      "metadata": {
        "colab": {
          "base_uri": "https://localhost:8080/"
        },
        "id": "s8sLUnoilwmb",
        "outputId": "6cbc5432-b88a-4ad7-a6d0-947a03e148dc"
      },
      "execution_count": null,
      "outputs": [
        {
          "output_type": "stream",
          "name": "stdout",
          "text": [
            "[ 0 -1  2 -1  4 -1  6 -1  8 -1]\n"
          ]
        }
      ]
    },
    {
      "cell_type": "markdown",
      "source": [
        "3. Convert a 1D array to a 2D array with 2 rows"
      ],
      "metadata": {
        "id": "oVL8pKW3msHT"
      }
    },
    {
      "cell_type": "code",
      "source": [
        "import numpy as np\n",
        "arr=np.arange(10) # create 1D array with values 0 to 9\n",
        "arr2d = arr.reshape(2,-1) # convert 1D array to 2D with 2 rows,\n",
        "# the -1 automatically determines number of columns based on total size\n",
        "print(arr2d)\n",
        "#Desired Output:\n",
        "#> array([[0, 1, 2, 3, 4],\n",
        "#>        [5, 6, 7, 8, 9]])"
      ],
      "metadata": {
        "colab": {
          "base_uri": "https://localhost:8080/"
        },
        "id": "kZ1Q3gEym7EM",
        "outputId": "cf297b83-8461-4119-fc70-a72957f43b11"
      },
      "execution_count": null,
      "outputs": [
        {
          "output_type": "stream",
          "name": "stdout",
          "text": [
            "[[0 1 2 3 4]\n",
            " [5 6 7 8 9]]\n"
          ]
        }
      ]
    },
    {
      "cell_type": "markdown",
      "source": [
        "4. Stack arrays a and b vertically"
      ],
      "metadata": {
        "id": "3dk3Og6dpKhp"
      }
    },
    {
      "cell_type": "code",
      "source": [
        "import numpy as np\n",
        "a = np.arange(10).reshape(2,-1)\n",
        "print(f\"a => {a}\")\n",
        "b = np.repeat(1, 10).reshape(2,-1) # np.repeat => here 1 repeated 10 times [1, 1, 1, 1, 1, 1, 1, 1, 1, 1]\n",
        "print(f\"b => {b}\")\n",
        "stackedArray = np.vstack((a,b)) #np.vstack stacks arrays vertically, meaning it stacks them on top of each other.\n",
        "#(a,b) is a tuple containing 2 arrays a and b\n",
        "print(f\"stackedArray : {stackedArray}\" )\n",
        "#Desired Output:()\n",
        "\n",
        "#> array([[0, 1, 2, 3, 4],\n",
        "#>        [5, 6, 7, 8, 9],\n",
        "#>        [1, 1, 1, 1, 1],\n",
        "#>        [1, 1, 1, 1, 1]])"
      ],
      "metadata": {
        "colab": {
          "base_uri": "https://localhost:8080/"
        },
        "id": "k5aK4SinpN5F",
        "outputId": "b2a1b381-3958-4c35-ad7a-21cd7718c43f"
      },
      "execution_count": null,
      "outputs": [
        {
          "output_type": "stream",
          "name": "stdout",
          "text": [
            "a => [[0 1 2 3 4]\n",
            " [5 6 7 8 9]]\n",
            "b => [[1 1 1 1 1]\n",
            " [1 1 1 1 1]]\n",
            "stackedArray : [[0 1 2 3 4]\n",
            " [5 6 7 8 9]\n",
            " [1 1 1 1 1]\n",
            " [1 1 1 1 1]]\n"
          ]
        }
      ]
    }
  ]
}