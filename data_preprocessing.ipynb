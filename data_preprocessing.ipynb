{
 "cells": [
  {
   "cell_type": "code",
   "execution_count": 97,
   "metadata": {},
   "outputs": [
    {
     "name": "stdout",
     "output_type": "stream",
     "text": [
      "Note: you may need to restart the kernel to use updated packages.Collecting scikit-learn\n",
      "  Downloading scikit_learn-1.5.1-cp312-cp312-win_amd64.whl.metadata (12 kB)\n",
      "Requirement already satisfied: numpy>=1.19.5 in c:\\users\\hp\\appdata\\local\\programs\\python\\python312\\lib\\site-packages (from scikit-learn) (1.26.4)\n",
      "Collecting scipy>=1.6.0 (from scikit-learn)\n",
      "  Downloading scipy-1.14.1-cp312-cp312-win_amd64.whl.metadata (60 kB)\n",
      "     ---------------------------------------- 0.0/60.8 kB ? eta -:--:--\n",
      "     ------ --------------------------------- 10.2/60.8 kB ? eta -:--:--\n",
      "     ---------------------------------------- 60.8/60.8 kB 1.1 MB/s eta 0:00:00\n",
      "Collecting joblib>=1.2.0 (from scikit-learn)\n",
      "  Downloading joblib-1.4.2-py3-none-any.whl.metadata (5.4 kB)\n",
      "Collecting threadpoolctl>=3.1.0 (from scikit-learn)\n",
      "  Downloading threadpoolctl-3.5.0-py3-none-any.whl.metadata (13 kB)\n",
      "Downloading scikit_learn-1.5.1-cp312-cp312-win_amd64.whl (10.9 MB)\n",
      "   ---------------------------------------- 0.0/10.9 MB ? eta -:--:--\n",
      "   - -------------------------------------- 0.3/10.9 MB 6.3 MB/s eta 0:00:02\n",
      "   ---- ----------------------------------- 1.2/10.9 MB 12.6 MB/s eta 0:00:01\n",
      "   ------- -------------------------------- 2.0/10.9 MB 14.0 MB/s eta 0:00:01\n",
      "   ------- -------------------------------- 2.0/10.9 MB 14.0 MB/s eta 0:00:01\n",
      "   ------------ --------------------------- 3.5/10.9 MB 14.7 MB/s eta 0:00:01\n",
      "   ---------------- ----------------------- 4.6/10.9 MB 16.3 MB/s eta 0:00:01\n",
      "   -------------------- ------------------- 5.7/10.9 MB 17.2 MB/s eta 0:00:01\n",
      "   ------------------------ --------------- 6.7/10.9 MB 17.9 MB/s eta 0:00:01\n",
      "   ---------------------------- ----------- 7.8/10.9 MB 17.8 MB/s eta 0:00:01\n",
      "   -------------------------------- ------- 8.8/10.9 MB 18.2 MB/s eta 0:00:01\n",
      "   ------------------------------------ --- 9.9/10.9 MB 18.6 MB/s eta 0:00:01\n",
      "   ---------------------------------------  10.9/10.9 MB 20.5 MB/s eta 0:00:01\n",
      "   ---------------------------------------- 10.9/10.9 MB 19.9 MB/s eta 0:00:00\n",
      "Downloading joblib-1.4.2-py3-none-any.whl (301 kB)\n",
      "   ---------------------------------------- 0.0/301.8 kB ? eta -:--:--\n",
      "   --------------------------------------- 301.8/301.8 kB 19.4 MB/s eta 0:00:00\n",
      "Downloading scipy-1.14.1-cp312-cp312-win_amd64.whl (44.5 MB)\n",
      "   ---------------------------------------- 0.0/44.5 MB ? eta -:--:--\n",
      "    --------------------------------------- 0.8/44.5 MB 24.8 MB/s eta 0:00:02\n",
      "   - -------------------------------------- 1.8/44.5 MB 22.6 MB/s eta 0:00:02\n",
      "   -- ------------------------------------- 2.8/44.5 MB 22.4 MB/s eta 0:00:02\n",
      "   --- ------------------------------------ 3.9/44.5 MB 22.7 MB/s eta 0:00:02\n",
      "   ---- ----------------------------------- 5.0/44.5 MB 22.8 MB/s eta 0:00:02\n",
      "   ----- ---------------------------------- 5.9/44.5 MB 22.4 MB/s eta 0:00:02\n",
      "   ------ --------------------------------- 6.8/44.5 MB 21.6 MB/s eta 0:00:02\n",
      "   ------ --------------------------------- 7.0/44.5 MB 19.4 MB/s eta 0:00:02\n",
      "   ------ --------------------------------- 7.4/44.5 MB 18.3 MB/s eta 0:00:03\n",
      "   ------- -------------------------------- 8.0/44.5 MB 17.7 MB/s eta 0:00:03\n",
      "   ------- -------------------------------- 8.4/44.5 MB 17.3 MB/s eta 0:00:03\n",
      "   ------- -------------------------------- 8.8/44.5 MB 15.6 MB/s eta 0:00:03\n",
      "   -------- ------------------------------- 9.2/44.5 MB 15.1 MB/s eta 0:00:03\n",
      "   -------- ------------------------------- 9.7/44.5 MB 14.7 MB/s eta 0:00:03\n",
      "   -------- ------------------------------- 9.8/44.5 MB 14.0 MB/s eta 0:00:03\n",
      "   --------- ------------------------------ 10.2/44.5 MB 13.6 MB/s eta 0:00:03\n",
      "   --------- ------------------------------ 10.5/44.5 MB 13.1 MB/s eta 0:00:03\n",
      "   --------- ------------------------------ 10.9/44.5 MB 12.6 MB/s eta 0:00:03\n",
      "   ---------- ----------------------------- 11.4/44.5 MB 12.1 MB/s eta 0:00:03\n",
      "   ---------- ----------------------------- 11.8/44.5 MB 11.7 MB/s eta 0:00:03\n",
      "   ---------- ----------------------------- 12.0/44.5 MB 11.3 MB/s eta 0:00:03\n",
      "   ----------- ---------------------------- 12.2/44.5 MB 10.9 MB/s eta 0:00:03\n",
      "   ----------- ---------------------------- 12.4/44.5 MB 10.4 MB/s eta 0:00:04\n",
      "   ----------- ---------------------------- 12.6/44.5 MB 10.1 MB/s eta 0:00:04\n",
      "   ----------- ---------------------------- 12.8/44.5 MB 9.8 MB/s eta 0:00:04\n",
      "   ----------- ---------------------------- 13.1/44.5 MB 9.4 MB/s eta 0:00:04\n",
      "   ----------- ---------------------------- 13.3/44.5 MB 9.1 MB/s eta 0:00:04\n",
      "   ------------ --------------------------- 13.5/44.5 MB 8.7 MB/s eta 0:00:04\n",
      "   ------------ --------------------------- 13.8/44.5 MB 8.4 MB/s eta 0:00:04\n",
      "   ------------ --------------------------- 14.0/44.5 MB 8.2 MB/s eta 0:00:04\n",
      "   ------------ --------------------------- 14.3/44.5 MB 7.9 MB/s eta 0:00:04\n",
      "   ------------- -------------------------- 14.6/44.5 MB 7.8 MB/s eta 0:00:04\n",
      "   ------------- -------------------------- 14.8/44.5 MB 7.4 MB/s eta 0:00:04\n",
      "   ------------- -------------------------- 15.1/44.5 MB 7.3 MB/s eta 0:00:05\n",
      "   ------------- -------------------------- 15.4/44.5 MB 7.1 MB/s eta 0:00:05\n",
      "   -------------- ------------------------- 15.7/44.5 MB 6.9 MB/s eta 0:00:05\n",
      "   -------------- ------------------------- 16.0/44.5 MB 6.7 MB/s eta 0:00:05\n",
      "   -------------- ------------------------- 16.3/44.5 MB 6.6 MB/s eta 0:00:05\n",
      "   -------------- ------------------------- 16.6/44.5 MB 6.5 MB/s eta 0:00:05\n",
      "   --------------- ------------------------ 16.9/44.5 MB 6.4 MB/s eta 0:00:05\n",
      "   --------------- ------------------------ 17.2/44.5 MB 6.2 MB/s eta 0:00:05\n",
      "   --------------- ------------------------ 17.4/44.5 MB 6.4 MB/s eta 0:00:05\n",
      "   --------------- ------------------------ 17.7/44.5 MB 6.2 MB/s eta 0:00:05\n",
      "   ---------------- ----------------------- 18.1/44.5 MB 6.1 MB/s eta 0:00:05\n",
      "   ---------------- ----------------------- 18.4/44.5 MB 6.1 MB/s eta 0:00:05\n",
      "   ---------------- ----------------------- 18.6/44.5 MB 6.1 MB/s eta 0:00:05\n",
      "   ---------------- ----------------------- 18.9/44.5 MB 6.1 MB/s eta 0:00:05\n",
      "   ----------------- ---------------------- 19.2/44.5 MB 6.0 MB/s eta 0:00:05\n",
      "   ----------------- ---------------------- 19.6/44.5 MB 6.1 MB/s eta 0:00:05\n",
      "   ----------------- ---------------------- 19.9/44.5 MB 6.0 MB/s eta 0:00:05\n",
      "   ------------------ --------------------- 20.1/44.5 MB 6.1 MB/s eta 0:00:05\n",
      "   ------------------ --------------------- 20.3/44.5 MB 5.9 MB/s eta 0:00:05\n",
      "   ------------------ --------------------- 20.6/44.5 MB 5.9 MB/s eta 0:00:05\n",
      "   ------------------ --------------------- 20.9/44.5 MB 5.9 MB/s eta 0:00:05\n",
      "   ------------------- -------------------- 21.2/44.5 MB 5.9 MB/s eta 0:00:04\n",
      "   ------------------- -------------------- 21.6/44.5 MB 5.8 MB/s eta 0:00:04\n",
      "   ------------------- -------------------- 22.0/44.5 MB 5.8 MB/s eta 0:00:04\n",
      "   -------------------- ------------------- 22.3/44.5 MB 5.9 MB/s eta 0:00:04\n",
      "   -------------------- ------------------- 22.6/44.5 MB 6.0 MB/s eta 0:00:04\n",
      "   -------------------- ------------------- 22.9/44.5 MB 6.1 MB/s eta 0:00:04\n",
      "   -------------------- ------------------- 23.3/44.5 MB 6.2 MB/s eta 0:00:04\n",
      "   --------------------- ------------------ 23.6/44.5 MB 6.2 MB/s eta 0:00:04\n",
      "   --------------------- ------------------ 23.8/44.5 MB 6.4 MB/s eta 0:00:04\n",
      "   --------------------- ------------------ 24.2/44.5 MB 6.5 MB/s eta 0:00:04\n",
      "   --------------------- ------------------ 24.4/44.5 MB 6.5 MB/s eta 0:00:04\n",
      "   ---------------------- ----------------- 24.7/44.5 MB 6.5 MB/s eta 0:00:04\n",
      "   ---------------------- ----------------- 25.1/44.5 MB 6.7 MB/s eta 0:00:03\n",
      "   ---------------------- ----------------- 25.5/44.5 MB 6.8 MB/s eta 0:00:03\n",
      "   ----------------------- ---------------- 25.9/44.5 MB 6.8 MB/s eta 0:00:03\n",
      "   ----------------------- ---------------- 26.3/44.5 MB 6.8 MB/s eta 0:00:03\n",
      "   ----------------------- ---------------- 26.6/44.5 MB 7.0 MB/s eta 0:00:03\n",
      "   ------------------------ --------------- 27.0/44.5 MB 7.0 MB/s eta 0:00:03\n",
      "   ------------------------ --------------- 27.4/44.5 MB 7.1 MB/s eta 0:00:03\n",
      "   ------------------------ --------------- 27.7/44.5 MB 7.1 MB/s eta 0:00:03\n",
      "   ------------------------- -------------- 27.9/44.5 MB 7.2 MB/s eta 0:00:03\n",
      "   ------------------------- -------------- 28.3/44.5 MB 7.2 MB/s eta 0:00:03\n",
      "   ------------------------- -------------- 28.7/44.5 MB 7.2 MB/s eta 0:00:03\n",
      "   -------------------------- ------------- 29.0/44.5 MB 7.3 MB/s eta 0:00:03\n",
      "   -------------------------- ------------- 29.4/44.5 MB 7.4 MB/s eta 0:00:03\n",
      "   -------------------------- ------------- 29.8/44.5 MB 7.4 MB/s eta 0:00:02\n",
      "   --------------------------- ------------ 30.3/44.5 MB 7.4 MB/s eta 0:00:02\n",
      "   --------------------------- ------------ 30.7/44.5 MB 7.6 MB/s eta 0:00:02\n",
      "   --------------------------- ------------ 31.1/44.5 MB 7.7 MB/s eta 0:00:02\n",
      "   ---------------------------- ----------- 31.4/44.5 MB 7.8 MB/s eta 0:00:02\n",
      "   ---------------------------- ----------- 31.7/44.5 MB 7.8 MB/s eta 0:00:02\n",
      "   ---------------------------- ----------- 32.1/44.5 MB 7.9 MB/s eta 0:00:02\n",
      "   ----------------------------- ---------- 32.3/44.5 MB 7.9 MB/s eta 0:00:02\n",
      "   ----------------------------- ---------- 32.8/44.5 MB 8.0 MB/s eta 0:00:02\n",
      "   ----------------------------- ---------- 33.2/44.5 MB 8.1 MB/s eta 0:00:02\n",
      "   ------------------------------ --------- 33.6/44.5 MB 8.1 MB/s eta 0:00:02\n",
      "   ------------------------------ --------- 34.0/44.5 MB 8.1 MB/s eta 0:00:02\n",
      "   ------------------------------ --------- 34.4/44.5 MB 8.2 MB/s eta 0:00:02\n",
      "   ------------------------------- -------- 34.7/44.5 MB 8.3 MB/s eta 0:00:02\n",
      "   ------------------------------- -------- 35.3/44.5 MB 8.4 MB/s eta 0:00:02\n",
      "   ------------------------------- -------- 35.6/44.5 MB 8.5 MB/s eta 0:00:02\n",
      "   -------------------------------- ------- 36.0/44.5 MB 8.6 MB/s eta 0:00:01\n",
      "   -------------------------------- ------- 36.2/44.5 MB 8.4 MB/s eta 0:00:01\n",
      "   -------------------------------- ------- 36.6/44.5 MB 8.4 MB/s eta 0:00:01\n",
      "   --------------------------------- ------ 36.9/44.5 MB 8.4 MB/s eta 0:00:01\n",
      "   --------------------------------- ------ 37.3/44.5 MB 8.4 MB/s eta 0:00:01\n",
      "   --------------------------------- ------ 37.6/44.5 MB 8.3 MB/s eta 0:00:01\n",
      "   ---------------------------------- ----- 37.9/44.5 MB 8.2 MB/s eta 0:00:01\n",
      "   ---------------------------------- ----- 38.3/44.5 MB 8.3 MB/s eta 0:00:01\n",
      "   ---------------------------------- ----- 38.7/44.5 MB 8.2 MB/s eta 0:00:01\n",
      "   ---------------------------------- ----- 39.0/44.5 MB 8.3 MB/s eta 0:00:01\n",
      "   ----------------------------------- ---- 39.2/44.5 MB 8.2 MB/s eta 0:00:01\n",
      "   ----------------------------------- ---- 39.5/44.5 MB 8.0 MB/s eta 0:00:01\n",
      "   ----------------------------------- ---- 39.8/44.5 MB 8.1 MB/s eta 0:00:01\n",
      "   ----------------------------------- ---- 40.0/44.5 MB 8.0 MB/s eta 0:00:01\n",
      "   ------------------------------------ --- 40.4/44.5 MB 7.9 MB/s eta 0:00:01\n",
      "   ------------------------------------ --- 40.8/44.5 MB 7.9 MB/s eta 0:00:01\n",
      "   ------------------------------------ --- 41.1/44.5 MB 7.9 MB/s eta 0:00:01\n",
      "   ------------------------------------- -- 41.3/44.5 MB 7.9 MB/s eta 0:00:01\n",
      "   ------------------------------------- -- 41.5/44.5 MB 7.8 MB/s eta 0:00:01\n",
      "   ------------------------------------- -- 41.9/44.5 MB 7.7 MB/s eta 0:00:01\n",
      "   -------------------------------------- - 42.4/44.5 MB 7.7 MB/s eta 0:00:01\n",
      "   -------------------------------------- - 42.7/44.5 MB 7.8 MB/s eta 0:00:01\n",
      "   -------------------------------------- - 43.1/44.5 MB 7.7 MB/s eta 0:00:01\n",
      "   -------------------------------------- - 43.4/44.5 MB 7.8 MB/s eta 0:00:01\n",
      "   ---------------------------------------  43.8/44.5 MB 7.7 MB/s eta 0:00:01\n",
      "   ---------------------------------------  44.1/44.5 MB 7.7 MB/s eta 0:00:01\n",
      "   ---------------------------------------  44.5/44.5 MB 7.7 MB/s eta 0:00:01\n",
      "   ---------------------------------------- 44.5/44.5 MB 7.4 MB/s eta 0:00:00\n",
      "Downloading threadpoolctl-3.5.0-py3-none-any.whl (18 kB)\n",
      "Installing collected packages: threadpoolctl, scipy, joblib, scikit-learn\n",
      "Successfully installed joblib-1.4.2 scikit-learn-1.5.1 scipy-1.14.1 threadpoolctl-3.5.0\n",
      "\n"
     ]
    },
    {
     "name": "stderr",
     "output_type": "stream",
     "text": [
      "\n",
      "[notice] A new release of pip is available: 24.0 -> 24.2\n",
      "[notice] To update, run: python.exe -m pip install --upgrade pip\n"
     ]
    }
   ],
   "source": [
    "\n",
    "pip install scikit-learn"
   ]
  },
  {
   "cell_type": "code",
   "execution_count": 98,
   "metadata": {},
   "outputs": [],
   "source": [
    "#Import necessary Libraries\n",
    "import pandas as pd\n",
    "from sklearn.preprocessing import StandardScaler,MinMaxScaler\n",
    "import numpy as np\n",
    "import matplotlib.pyplot as plt\n",
    "import seaborn as sns\n"
   ]
  },
  {
   "cell_type": "code",
   "execution_count": 27,
   "metadata": {},
   "outputs": [
    {
     "data": {
      "text/html": [
       "<div>\n",
       "<style scoped>\n",
       "    .dataframe tbody tr th:only-of-type {\n",
       "        vertical-align: middle;\n",
       "    }\n",
       "\n",
       "    .dataframe tbody tr th {\n",
       "        vertical-align: top;\n",
       "    }\n",
       "\n",
       "    .dataframe thead th {\n",
       "        text-align: right;\n",
       "    }\n",
       "</style>\n",
       "<table border=\"1\" class=\"dataframe\">\n",
       "  <thead>\n",
       "    <tr style=\"text-align: right;\">\n",
       "      <th></th>\n",
       "      <th>Company</th>\n",
       "      <th>Age</th>\n",
       "      <th>Salary</th>\n",
       "      <th>Place</th>\n",
       "      <th>Country</th>\n",
       "      <th>Gender</th>\n",
       "    </tr>\n",
       "  </thead>\n",
       "  <tbody>\n",
       "    <tr>\n",
       "      <th>0</th>\n",
       "      <td>TCS</td>\n",
       "      <td>20.0</td>\n",
       "      <td>NaN</td>\n",
       "      <td>Chennai</td>\n",
       "      <td>India</td>\n",
       "      <td>0</td>\n",
       "    </tr>\n",
       "    <tr>\n",
       "      <th>1</th>\n",
       "      <td>Infosys</td>\n",
       "      <td>30.0</td>\n",
       "      <td>NaN</td>\n",
       "      <td>Mumbai</td>\n",
       "      <td>India</td>\n",
       "      <td>0</td>\n",
       "    </tr>\n",
       "    <tr>\n",
       "      <th>2</th>\n",
       "      <td>TCS</td>\n",
       "      <td>35.0</td>\n",
       "      <td>2300.0</td>\n",
       "      <td>Calcutta</td>\n",
       "      <td>India</td>\n",
       "      <td>0</td>\n",
       "    </tr>\n",
       "    <tr>\n",
       "      <th>3</th>\n",
       "      <td>Infosys</td>\n",
       "      <td>40.0</td>\n",
       "      <td>3000.0</td>\n",
       "      <td>Delhi</td>\n",
       "      <td>India</td>\n",
       "      <td>0</td>\n",
       "    </tr>\n",
       "    <tr>\n",
       "      <th>4</th>\n",
       "      <td>TCS</td>\n",
       "      <td>23.0</td>\n",
       "      <td>4000.0</td>\n",
       "      <td>Mumbai</td>\n",
       "      <td>India</td>\n",
       "      <td>0</td>\n",
       "    </tr>\n",
       "    <tr>\n",
       "      <th>...</th>\n",
       "      <td>...</td>\n",
       "      <td>...</td>\n",
       "      <td>...</td>\n",
       "      <td>...</td>\n",
       "      <td>...</td>\n",
       "      <td>...</td>\n",
       "    </tr>\n",
       "    <tr>\n",
       "      <th>143</th>\n",
       "      <td>TCS</td>\n",
       "      <td>33.0</td>\n",
       "      <td>9024.0</td>\n",
       "      <td>Calcutta</td>\n",
       "      <td>India</td>\n",
       "      <td>1</td>\n",
       "    </tr>\n",
       "    <tr>\n",
       "      <th>144</th>\n",
       "      <td>Infosys</td>\n",
       "      <td>22.0</td>\n",
       "      <td>8787.0</td>\n",
       "      <td>Calcutta</td>\n",
       "      <td>India</td>\n",
       "      <td>1</td>\n",
       "    </tr>\n",
       "    <tr>\n",
       "      <th>145</th>\n",
       "      <td>Infosys</td>\n",
       "      <td>44.0</td>\n",
       "      <td>4034.0</td>\n",
       "      <td>Delhi</td>\n",
       "      <td>India</td>\n",
       "      <td>1</td>\n",
       "    </tr>\n",
       "    <tr>\n",
       "      <th>146</th>\n",
       "      <td>TCS</td>\n",
       "      <td>33.0</td>\n",
       "      <td>5034.0</td>\n",
       "      <td>Mumbai</td>\n",
       "      <td>India</td>\n",
       "      <td>1</td>\n",
       "    </tr>\n",
       "    <tr>\n",
       "      <th>147</th>\n",
       "      <td>Infosys</td>\n",
       "      <td>22.0</td>\n",
       "      <td>8202.0</td>\n",
       "      <td>Cochin</td>\n",
       "      <td>India</td>\n",
       "      <td>0</td>\n",
       "    </tr>\n",
       "  </tbody>\n",
       "</table>\n",
       "<p>148 rows × 6 columns</p>\n",
       "</div>"
      ],
      "text/plain": [
       "     Company   Age  Salary     Place Country  Gender\n",
       "0        TCS  20.0     NaN   Chennai   India       0\n",
       "1    Infosys  30.0     NaN    Mumbai   India       0\n",
       "2        TCS  35.0  2300.0  Calcutta   India       0\n",
       "3    Infosys  40.0  3000.0     Delhi   India       0\n",
       "4        TCS  23.0  4000.0    Mumbai   India       0\n",
       "..       ...   ...     ...       ...     ...     ...\n",
       "143      TCS  33.0  9024.0  Calcutta   India       1\n",
       "144  Infosys  22.0  8787.0  Calcutta   India       1\n",
       "145  Infosys  44.0  4034.0     Delhi   India       1\n",
       "146      TCS  33.0  5034.0    Mumbai   India       1\n",
       "147  Infosys  22.0  8202.0    Cochin   India       0\n",
       "\n",
       "[148 rows x 6 columns]"
      ]
     },
     "execution_count": 27,
     "metadata": {},
     "output_type": "execute_result"
    }
   ],
   "source": [
    "#load data set\n",
    "\n",
    "df = pd.read_csv('Employee.csv')\n",
    "df"
   ]
  },
  {
   "cell_type": "code",
   "execution_count": 28,
   "metadata": {},
   "outputs": [
    {
     "name": "stdout",
     "output_type": "stream",
     "text": [
      "Shape : (148, 6)\n"
     ]
    }
   ],
   "source": [
    "#shape of the data set\n",
    "print(\"Shape :\",df.shape)"
   ]
  },
  {
   "cell_type": "code",
   "execution_count": 30,
   "metadata": {},
   "outputs": [
    {
     "name": "stdout",
     "output_type": "stream",
     "text": [
      "<class 'pandas.core.frame.DataFrame'>\n",
      "RangeIndex: 148 entries, 0 to 147\n",
      "Data columns (total 6 columns):\n",
      " #   Column   Non-Null Count  Dtype  \n",
      "---  ------   --------------  -----  \n",
      " 0   Company  140 non-null    object \n",
      " 1   Age      130 non-null    float64\n",
      " 2   Salary   124 non-null    float64\n",
      " 3   Place    134 non-null    object \n",
      " 4   Country  148 non-null    object \n",
      " 5   Gender   148 non-null    int64  \n",
      "dtypes: float64(2), int64(1), object(3)\n",
      "memory usage: 7.1+ KB\n"
     ]
    }
   ],
   "source": [
    "#get basic informations like column names,non null values count, data types\n",
    "df.info()"
   ]
  },
  {
   "cell_type": "code",
   "execution_count": 31,
   "metadata": {},
   "outputs": [
    {
     "data": {
      "text/html": [
       "<div>\n",
       "<style scoped>\n",
       "    .dataframe tbody tr th:only-of-type {\n",
       "        vertical-align: middle;\n",
       "    }\n",
       "\n",
       "    .dataframe tbody tr th {\n",
       "        vertical-align: top;\n",
       "    }\n",
       "\n",
       "    .dataframe thead th {\n",
       "        text-align: right;\n",
       "    }\n",
       "</style>\n",
       "<table border=\"1\" class=\"dataframe\">\n",
       "  <thead>\n",
       "    <tr style=\"text-align: right;\">\n",
       "      <th></th>\n",
       "      <th>Age</th>\n",
       "      <th>Salary</th>\n",
       "      <th>Gender</th>\n",
       "    </tr>\n",
       "  </thead>\n",
       "  <tbody>\n",
       "    <tr>\n",
       "      <th>count</th>\n",
       "      <td>130.000000</td>\n",
       "      <td>124.000000</td>\n",
       "      <td>148.000000</td>\n",
       "    </tr>\n",
       "    <tr>\n",
       "      <th>mean</th>\n",
       "      <td>30.484615</td>\n",
       "      <td>5312.467742</td>\n",
       "      <td>0.222973</td>\n",
       "    </tr>\n",
       "    <tr>\n",
       "      <th>std</th>\n",
       "      <td>11.096640</td>\n",
       "      <td>2573.764683</td>\n",
       "      <td>0.417654</td>\n",
       "    </tr>\n",
       "    <tr>\n",
       "      <th>min</th>\n",
       "      <td>0.000000</td>\n",
       "      <td>1089.000000</td>\n",
       "      <td>0.000000</td>\n",
       "    </tr>\n",
       "    <tr>\n",
       "      <th>25%</th>\n",
       "      <td>22.000000</td>\n",
       "      <td>3030.000000</td>\n",
       "      <td>0.000000</td>\n",
       "    </tr>\n",
       "    <tr>\n",
       "      <th>50%</th>\n",
       "      <td>32.500000</td>\n",
       "      <td>5000.000000</td>\n",
       "      <td>0.000000</td>\n",
       "    </tr>\n",
       "    <tr>\n",
       "      <th>75%</th>\n",
       "      <td>37.750000</td>\n",
       "      <td>8000.000000</td>\n",
       "      <td>0.000000</td>\n",
       "    </tr>\n",
       "    <tr>\n",
       "      <th>max</th>\n",
       "      <td>54.000000</td>\n",
       "      <td>9876.000000</td>\n",
       "      <td>1.000000</td>\n",
       "    </tr>\n",
       "  </tbody>\n",
       "</table>\n",
       "</div>"
      ],
      "text/plain": [
       "              Age       Salary      Gender\n",
       "count  130.000000   124.000000  148.000000\n",
       "mean    30.484615  5312.467742    0.222973\n",
       "std     11.096640  2573.764683    0.417654\n",
       "min      0.000000  1089.000000    0.000000\n",
       "25%     22.000000  3030.000000    0.000000\n",
       "50%     32.500000  5000.000000    0.000000\n",
       "75%     37.750000  8000.000000    0.000000\n",
       "max     54.000000  9876.000000    1.000000"
      ]
     },
     "execution_count": 31,
     "metadata": {},
     "output_type": "execute_result"
    }
   ],
   "source": [
    "#descriptive statistics of numeric variables only\n",
    "df.describe()"
   ]
  },
  {
   "cell_type": "markdown",
   "metadata": {},
   "source": [
    "Age: Most employees are between 22 and 37 years old, with a few younger or older individuals.\n",
    "Salary: The salary range is wide, with a median of 5000 units, but significant variation in salaries.\n",
    "Gender: A majority of the entries are coded as 0, with a smaller proportion coded as 1."
   ]
  },
  {
   "cell_type": "code",
   "execution_count": 32,
   "metadata": {},
   "outputs": [
    {
     "data": {
      "text/html": [
       "<div>\n",
       "<style scoped>\n",
       "    .dataframe tbody tr th:only-of-type {\n",
       "        vertical-align: middle;\n",
       "    }\n",
       "\n",
       "    .dataframe tbody tr th {\n",
       "        vertical-align: top;\n",
       "    }\n",
       "\n",
       "    .dataframe thead th {\n",
       "        text-align: right;\n",
       "    }\n",
       "</style>\n",
       "<table border=\"1\" class=\"dataframe\">\n",
       "  <thead>\n",
       "    <tr style=\"text-align: right;\">\n",
       "      <th></th>\n",
       "      <th>Company</th>\n",
       "      <th>Place</th>\n",
       "      <th>Country</th>\n",
       "    </tr>\n",
       "  </thead>\n",
       "  <tbody>\n",
       "    <tr>\n",
       "      <th>count</th>\n",
       "      <td>140</td>\n",
       "      <td>134</td>\n",
       "      <td>148</td>\n",
       "    </tr>\n",
       "    <tr>\n",
       "      <th>unique</th>\n",
       "      <td>6</td>\n",
       "      <td>11</td>\n",
       "      <td>1</td>\n",
       "    </tr>\n",
       "    <tr>\n",
       "      <th>top</th>\n",
       "      <td>TCS</td>\n",
       "      <td>Mumbai</td>\n",
       "      <td>India</td>\n",
       "    </tr>\n",
       "    <tr>\n",
       "      <th>freq</th>\n",
       "      <td>53</td>\n",
       "      <td>37</td>\n",
       "      <td>148</td>\n",
       "    </tr>\n",
       "  </tbody>\n",
       "</table>\n",
       "</div>"
      ],
      "text/plain": [
       "       Company   Place Country\n",
       "count      140     134     148\n",
       "unique       6      11       1\n",
       "top        TCS  Mumbai   India\n",
       "freq        53      37     148"
      ]
     },
     "execution_count": 32,
     "metadata": {},
     "output_type": "execute_result"
    }
   ],
   "source": [
    "#descriptive statistics of Categorical variables only\n",
    "df.describe(include=object)"
   ]
  },
  {
   "cell_type": "code",
   "execution_count": 33,
   "metadata": {},
   "outputs": [
    {
     "name": "stdout",
     "output_type": "stream",
     "text": [
      "Unique values in company \n",
      " ['TCS' 'Infosys' 'CTS' nan 'Tata Consultancy Services' 'Congnizant'\n",
      " 'Infosys Pvt Lmt']\n",
      "Unique values in age \n",
      " [20. 30. 35. 40. 23. nan 34. 45. 18. 22. 32. 37. 50. 21. 46. 36. 26. 41.\n",
      " 24. 25. 43. 19. 38. 51. 31. 44. 33. 17.  0. 54.]\n",
      "unique values in Salary \n",
      " [  nan 2300. 3000. 4000. 5000. 6000. 7000. 8000. 9000. 1089. 1234. 3030.\n",
      " 3045. 3184. 4824. 5835. 7084. 8943. 8345. 9284. 9876. 2034. 7654. 2934.\n",
      " 4034. 5034. 8202. 9024. 4345. 6544. 6543. 3234. 4324. 5435. 5555. 8787.\n",
      " 3454. 5654. 5009. 5098. 3033.]\n",
      "unique values in Place \n",
      " ['Chennai' 'Mumbai' 'Calcutta' 'Delhi' 'Podicherry' 'Cochin' nan 'Noida'\n",
      " 'Hyderabad' 'Bhopal' 'Nagpur' 'Pune']\n",
      "unique values in Country \n",
      " ['India']\n",
      "unique values in Gender \n",
      " [0 1]\n"
     ]
    }
   ],
   "source": [
    "\n",
    "#The unique() function removes all duplicate values on a column and returns a single value for multiple same values\n",
    "print(\"Unique values in company \\n\", df['Company'].unique())\n",
    "print(\"Unique values in age \\n\", df['Age'].unique())\n",
    "print(\"unique values in Salary \\n\",df['Salary'].unique())\n",
    "print(\"unique values in Place \\n\",df['Place'].unique())\n",
    "print(\"unique values in Country \\n\",df['Country'].unique())\n",
    "print(\"unique values in Gender \\n\",df['Gender'].unique())"
   ]
  },
  {
   "cell_type": "code",
   "execution_count": 34,
   "metadata": {},
   "outputs": [
    {
     "name": "stdout",
     "output_type": "stream",
     "text": [
      "{'Company': 7, 'Age': 30, 'Salary': 41, 'Place': 12, 'Country': 1, 'Gender': 2}\n",
      " number of unique values in column 'Company' :  7\n"
     ]
    }
   ],
   "source": [
    "unique_values= {feature:df[feature].unique() for feature in df.columns}\n",
    "#print(\"list down the unique values in each feature :\\n\", unique_values)\n",
    "lengths = {feature: len(values) for feature, values in unique_values.items()}\n",
    "print(lengths)\n",
    "print(\" number of unique values in column 'Company' : \", df['Company'].nunique(dropna=False))\n",
    " # Get number of unique values in column 'Company'"
   ]
  },
  {
   "cell_type": "code",
   "execution_count": 35,
   "metadata": {},
   "outputs": [
    {
     "name": "stdout",
     "output_type": "stream",
     "text": [
      "    company_name  employee_age  employee_salary      city Nation  gender_code\n",
      "0            TCS          20.0              NaN   Chennai  India            0\n",
      "1        Infosys          30.0              NaN    Mumbai  India            0\n",
      "2            TCS          35.0           2300.0  Calcutta  India            0\n",
      "3        Infosys          40.0           3000.0     Delhi  India            0\n",
      "4            TCS          23.0           4000.0    Mumbai  India            0\n",
      "..           ...           ...              ...       ...    ...          ...\n",
      "143          TCS          33.0           9024.0  Calcutta  India            1\n",
      "144      Infosys          22.0           8787.0  Calcutta  India            1\n",
      "145      Infosys          44.0           4034.0     Delhi  India            1\n",
      "146          TCS          33.0           5034.0    Mumbai  India            1\n",
      "147      Infosys          22.0           8202.0    Cochin  India            0\n",
      "\n",
      "[148 rows x 6 columns]\n"
     ]
    }
   ],
   "source": [
    "# renaming of the columns\n",
    "\n",
    "df_renamed=df.rename(columns={\n",
    "    'Company' : 'company_name',\n",
    "    'Age' :'employee_age',\n",
    "    'Salary':'employee_salary',\n",
    "    'Place':'city',\n",
    "    'Country':'Nation',\n",
    "    'Gender':'gender_code'\n",
    "    \n",
    "})\n",
    "\n",
    "print(df_renamed)"
   ]
  },
  {
   "cell_type": "markdown",
   "metadata": {},
   "source": [
    "## Data Cleaning:\n",
    "Find the missing and inappropriate values, treat them appropriately.\n",
    "Remove all duplicate rows.\n",
    "Find the outliers.\n",
    "Replace the value 0 in age as NaN\n",
    "Treat the null values in all columns using any measures(removing/ replace the values with mean/median/mode)"
   ]
  },
  {
   "cell_type": "code",
   "execution_count": 36,
   "metadata": {},
   "outputs": [
    {
     "name": "stderr",
     "output_type": "stream",
     "text": [
      "C:\\Users\\hp\\AppData\\Local\\Temp\\ipykernel_20392\\1002437172.py:2: FutureWarning: A value is trying to be set on a copy of a DataFrame or Series through chained assignment using an inplace method.\n",
      "The behavior will change in pandas 3.0. This inplace method will never work because the intermediate object on which we are setting values always behaves as a copy.\n",
      "\n",
      "For example, when doing 'df[col].method(value, inplace=True)', try using 'df.method({col: value}, inplace=True)' or df[col] = df[col].method(value) instead, to perform the operation inplace on the original object.\n",
      "\n",
      "\n",
      "  df['Age'].replace(0,np.nan,inplace=True)\n"
     ]
    },
    {
     "data": {
      "text/html": [
       "<div>\n",
       "<style scoped>\n",
       "    .dataframe tbody tr th:only-of-type {\n",
       "        vertical-align: middle;\n",
       "    }\n",
       "\n",
       "    .dataframe tbody tr th {\n",
       "        vertical-align: top;\n",
       "    }\n",
       "\n",
       "    .dataframe thead th {\n",
       "        text-align: right;\n",
       "    }\n",
       "</style>\n",
       "<table border=\"1\" class=\"dataframe\">\n",
       "  <thead>\n",
       "    <tr style=\"text-align: right;\">\n",
       "      <th></th>\n",
       "      <th>Age</th>\n",
       "      <th>Salary</th>\n",
       "      <th>Gender</th>\n",
       "    </tr>\n",
       "  </thead>\n",
       "  <tbody>\n",
       "    <tr>\n",
       "      <th>count</th>\n",
       "      <td>124.000000</td>\n",
       "      <td>124.000000</td>\n",
       "      <td>148.000000</td>\n",
       "    </tr>\n",
       "    <tr>\n",
       "      <th>mean</th>\n",
       "      <td>31.959677</td>\n",
       "      <td>5312.467742</td>\n",
       "      <td>0.222973</td>\n",
       "    </tr>\n",
       "    <tr>\n",
       "      <th>std</th>\n",
       "      <td>9.034171</td>\n",
       "      <td>2573.764683</td>\n",
       "      <td>0.417654</td>\n",
       "    </tr>\n",
       "    <tr>\n",
       "      <th>min</th>\n",
       "      <td>17.000000</td>\n",
       "      <td>1089.000000</td>\n",
       "      <td>0.000000</td>\n",
       "    </tr>\n",
       "    <tr>\n",
       "      <th>25%</th>\n",
       "      <td>23.000000</td>\n",
       "      <td>3030.000000</td>\n",
       "      <td>0.000000</td>\n",
       "    </tr>\n",
       "    <tr>\n",
       "      <th>50%</th>\n",
       "      <td>33.000000</td>\n",
       "      <td>5000.000000</td>\n",
       "      <td>0.000000</td>\n",
       "    </tr>\n",
       "    <tr>\n",
       "      <th>75%</th>\n",
       "      <td>40.000000</td>\n",
       "      <td>8000.000000</td>\n",
       "      <td>0.000000</td>\n",
       "    </tr>\n",
       "    <tr>\n",
       "      <th>max</th>\n",
       "      <td>54.000000</td>\n",
       "      <td>9876.000000</td>\n",
       "      <td>1.000000</td>\n",
       "    </tr>\n",
       "  </tbody>\n",
       "</table>\n",
       "</div>"
      ],
      "text/plain": [
       "              Age       Salary      Gender\n",
       "count  124.000000   124.000000  148.000000\n",
       "mean    31.959677  5312.467742    0.222973\n",
       "std      9.034171  2573.764683    0.417654\n",
       "min     17.000000  1089.000000    0.000000\n",
       "25%     23.000000  3030.000000    0.000000\n",
       "50%     33.000000  5000.000000    0.000000\n",
       "75%     40.000000  8000.000000    0.000000\n",
       "max     54.000000  9876.000000    1.000000"
      ]
     },
     "execution_count": 36,
     "metadata": {},
     "output_type": "execute_result"
    }
   ],
   "source": [
    "#Replace the value 0 in age as NaN\n",
    "df['Age'].replace(0,np.nan,inplace=True)\n",
    "df.describe()"
   ]
  },
  {
   "cell_type": "code",
   "execution_count": 37,
   "metadata": {},
   "outputs": [
    {
     "name": "stdout",
     "output_type": "stream",
     "text": [
      "Missing values in each columns\n",
      "Company     8\n",
      "Age        24\n",
      "Salary     24\n",
      "Place      14\n",
      "Country     0\n",
      "Gender      0\n",
      "dtype: int64\n"
     ]
    }
   ],
   "source": [
    "#Find the missing and inappropriate values, treat them appropriately.\n",
    "#Treat the null values in all columns using any measures(removing/ replace the values with mean/median/mode)\n",
    "\n",
    "\n",
    "# Check for missing values in each column\n",
    "print(\"Missing values in each columns\")\n",
    "print(df.isnull().sum())\n"
   ]
  },
  {
   "cell_type": "code",
   "execution_count": 41,
   "metadata": {},
   "outputs": [
    {
     "name": "stdout",
     "output_type": "stream",
     "text": [
      "Missing values in each columns after replacement of NAN with median/Mode\n",
      "Company    0\n",
      "Age        0\n",
      "Salary     0\n",
      "Place      0\n",
      "Country    0\n",
      "Gender     0\n",
      "dtype: int64\n"
     ]
    },
    {
     "name": "stderr",
     "output_type": "stream",
     "text": [
      "C:\\Users\\hp\\AppData\\Local\\Temp\\ipykernel_20392\\2008530618.py:4: FutureWarning: A value is trying to be set on a copy of a DataFrame or Series through chained assignment using an inplace method.\n",
      "The behavior will change in pandas 3.0. This inplace method will never work because the intermediate object on which we are setting values always behaves as a copy.\n",
      "\n",
      "For example, when doing 'df[col].method(value, inplace=True)', try using 'df.method({col: value}, inplace=True)' or df[col] = df[col].method(value) instead, to perform the operation inplace on the original object.\n",
      "\n",
      "\n",
      "  df['Salary'].fillna(df['Salary'].median(), inplace=True)  # If True, fill in-place. Note: this will modify any other views on this object\n",
      "C:\\Users\\hp\\AppData\\Local\\Temp\\ipykernel_20392\\2008530618.py:7: FutureWarning: A value is trying to be set on a copy of a DataFrame or Series through chained assignment using an inplace method.\n",
      "The behavior will change in pandas 3.0. This inplace method will never work because the intermediate object on which we are setting values always behaves as a copy.\n",
      "\n",
      "For example, when doing 'df[col].method(value, inplace=True)', try using 'df.method({col: value}, inplace=True)' or df[col] = df[col].method(value) instead, to perform the operation inplace on the original object.\n",
      "\n",
      "\n",
      "  df['Age'].fillna(df['Age'].median(),inplace=True)\n"
     ]
    }
   ],
   "source": [
    "#For numerical columns age and salary, use mean/meadian to fill missing values\n",
    "#Replace missing values with meadian, which is often a robust measure for numerical data\n",
    "\n",
    "df['Salary'].fillna(df['Salary'].median(), inplace=True)  # If True, fill in-place. Note: this will modify any other views on this object \n",
    "\n",
    "#Fill missing values in Age\n",
    "df['Age'].fillna(df['Age'].median(),inplace=True)\n",
    "\n",
    "#For categorical columns(place,country,Company),Use Mode(mose frequent values)to fill missing values\n",
    "df['Company'].fillna(df['Company'].mode()[0],inplace=True)\n",
    "df['Place'].fillna(df['Place'].mode()[0],inplace=True)\n",
    "# Check for missing values in each column\n",
    "print(\"Missing values in each columns after replacement of NAN with median/Mode\")\n",
    "print(df.isnull().sum())"
   ]
  },
  {
   "cell_type": "code",
   "execution_count": 42,
   "metadata": {},
   "outputs": [],
   "source": [
    "#Remove all duplicate rows.\n",
    "df.drop_duplicates(inplace=True)"
   ]
  },
  {
   "cell_type": "code",
   "execution_count": 65,
   "metadata": {},
   "outputs": [
    {
     "data": {
      "text/plain": [
       "Text(0.5, 1.0, 'Boxplot of Salary')"
      ]
     },
     "execution_count": 65,
     "metadata": {},
     "output_type": "execute_result"
    },
    {
     "data": {
      "image/png": "[encoded data removed]",
      "text/plain": [
       "<Figure size 640x480 with 1 Axes>"
      ]
     },
     "metadata": {},
     "output_type": "display_data"
    }
   ],
   "source": [
    "#Find the outliers.\n",
    "\n",
    "#To find outliers, we can use statistical methods such as the IQR (Interquartile Range) \n",
    "# for numerical columns. Here, we will apply it to the 'Age' and 'Salary' columns.\n",
    "\n",
    "sns.boxplot(x='Salary',data =df)\n",
    "plt.title('Boxplot of Salary')"
   ]
  },
  {
   "cell_type": "code",
   "execution_count": 64,
   "metadata": {},
   "outputs": [
    {
     "data": {
      "text/plain": [
       "Text(0.5, 1.0, 'Boxplot of Age')"
      ]
     },
     "execution_count": 64,
     "metadata": {},
     "output_type": "execute_result"
    },
    {
     "data": {
      "image/png": "[encoded data removed]",
      "text/plain": [
       "<Figure size 640x480 with 1 Axes>"
      ]
     },
     "metadata": {},
     "output_type": "display_data"
    }
   ],
   "source": [
    "sns.boxplot(x='Age',data =df)\n",
    "plt.title('Boxplot of Age')"
   ]
  },
  {
   "cell_type": "code",
   "execution_count": 66,
   "metadata": {},
   "outputs": [
    {
     "name": "stdout",
     "output_type": "stream",
     "text": [
      "Number of outliers in Salary: 0\n",
      "Number of outliers in Age: 0\n"
     ]
    }
   ],
   "source": [
    "\n",
    "#find outliers using IQR\n",
    "\n",
    "def detect_outliers_iqr(column):\n",
    "    Q1  = column.quantile(0.25)\n",
    "    Q2  = column.quantile(0.75)\n",
    "    IQR = Q2-Q1\n",
    "    lower_bound = Q1-(1.5*IQR)\n",
    "    upper_bound = Q2+(1.5*IQR)\n",
    "    return (column > upper_bound) | (column < lower_bound)\n",
    "\n",
    "salary_outliers = detect_outliers_iqr(df['Salary'])\n",
    "age_outliers = detect_outliers_iqr(df['Age'])\n",
    "print(\"Number of outliers in Salary:\", salary_outliers.sum())\n",
    "print(\"Number of outliers in Age:\", age_outliers.sum())\n",
    "\n",
    "\n",
    "\n"
   ]
  },
  {
   "cell_type": "markdown",
   "metadata": {},
   "source": [
    "## Data Analysis: \n",
    "Filter the data with age >40 and salary<5000\n",
    "Plot the chart with age and salary\n",
    "Count the number of people from each place and represent it visually"
   ]
  },
  {
   "cell_type": "code",
   "execution_count": 75,
   "metadata": {},
   "outputs": [
    {
     "name": "stdout",
     "output_type": "stream",
     "text": [
      "Filtered data frame - age >40 and salary<500 \n",
      "      Company   Age  Salary      Place Country  Gender\n",
      "21   Infosys  50.0  3184.0      Delhi   India       0\n",
      "32   Infosys  45.0  4034.0   Calcutta   India       0\n",
      "39   Infosys  41.0  3000.0     Mumbai   India       0\n",
      "50   Infosys  41.0  3000.0    Chennai   India       0\n",
      "57   Infosys  51.0  3184.0  Hyderabad   India       0\n",
      "68   Infosys  43.0  4034.0     Mumbai   India       0\n",
      "75   Infosys  44.0  3000.0     Cochin   India       0\n",
      "86   Infosys  41.0  3000.0      Delhi   India       0\n",
      "93   Infosys  54.0  3184.0     Mumbai   India       0\n",
      "104  Infosys  44.0  4034.0      Delhi   India       0\n",
      "122  Infosys  44.0  3234.0     Mumbai   India       0\n",
      "129  Infosys  50.0  3184.0   Calcutta   India       0\n",
      "138      CTS  44.0  3033.0     Cochin   India       0\n",
      "140  Infosys  44.0  4034.0  Hyderabad   India       0\n",
      "145  Infosys  44.0  4034.0      Delhi   India       1\n"
     ]
    }
   ],
   "source": [
    "#Filter the data with age >40 and salary<5000\n",
    "\n",
    "filtered_df = df[(df['Age'] > 40) & (df['Salary'] < 5000)]\n",
    "\n",
    "print(\"Filtered data frame - age >40 and salary<500 \\n\", filtered_df)\n"
   ]
  },
  {
   "cell_type": "code",
   "execution_count": 77,
   "metadata": {},
   "outputs": [
    {
     "data": {
      "image/png": "[encoded data removed]",
      "text/plain": [
       "<Figure size 640x480 with 1 Axes>"
      ]
     },
     "metadata": {},
     "output_type": "display_data"
    }
   ],
   "source": [
    "#Plot the chart with age and salary\n",
    "\n",
    "sns.scatterplot(data=filtered_df,x='Age',y='Salary',hue=\"Company\",palette='deep')\n",
    "plt.title(\"Age vs Salary (Age > 40 and Salary < 5000)\")\n",
    "plt.xlabel(\"Age\")\n",
    "plt.ylabel(\"Salary\")\n",
    "plt.grid(True)\n",
    "plt.show()"
   ]
  },
  {
   "cell_type": "code",
   "execution_count": 85,
   "metadata": {},
   "outputs": [
    {
     "name": "stdout",
     "output_type": "stream",
     "text": [
      "The number of people from each place : \n",
      " Place\n",
      "Mumbai        48\n",
      "Calcutta      32\n",
      "Chennai       14\n",
      "Delhi         14\n",
      "Cochin        13\n",
      "Noida          8\n",
      "Hyderabad      8\n",
      "Podicherry     3\n",
      "Pune           2\n",
      "Bhopal         1\n",
      "Nagpur         1\n",
      "Name: count, dtype: int64\n"
     ]
    },
    {
     "data": {
      "image/png": "[encoded data removed]",
      "text/plain": [
       "<Figure size 1000x600 with 1 Axes>"
      ]
     },
     "metadata": {},
     "output_type": "display_data"
    }
   ],
   "source": [
    "#Count the number of people from each place and represent it visually\n",
    "\n",
    "place_counts = df['Place'].value_counts()\n",
    "print(\"The number of people from each place : \\n\", place_counts)\n",
    "\n",
    "plt.figure(figsize=(10,6))\n",
    "sns.barplot(x=place_counts.index,y=place_counts.values)\n",
    "plt.xlabel(\"Place\")\n",
    "plt.ylabel(\"Count\")\n",
    "plt.title(\"Number of People from Each Place\")\n",
    "plt.xticks(rotation=45)\n",
    "plt.grid(axis='y')\n",
    "plt.show()"
   ]
  },
  {
   "cell_type": "markdown",
   "metadata": {},
   "source": [
    "## Data Encoding: \n",
    "Convert categorical variables into numerical representations using techniques such as one-hot encoding, label encoding, making them suitable for analysis by machine learning algorithms."
   ]
  },
  {
   "cell_type": "code",
   "execution_count": 92,
   "metadata": {},
   "outputs": [
    {
     "name": "stdout",
     "output_type": "stream",
     "text": [
      "Data after One-Hot Encoding:\n",
      "      Age  Salary  Gender  Company_CTS  Company_Congnizant  Company_Infosys  \\\n",
      "0    20.0  5000.0       0        False               False            False   \n",
      "1    30.0  5000.0       0        False               False             True   \n",
      "2    35.0  2300.0       0        False               False            False   \n",
      "3    40.0  3000.0       0        False               False             True   \n",
      "4    23.0  4000.0       0        False               False            False   \n",
      "..    ...     ...     ...          ...                 ...              ...   \n",
      "142  22.0  8202.0       0        False               False            False   \n",
      "143  33.0  9024.0       1        False               False            False   \n",
      "145  44.0  4034.0       1        False               False             True   \n",
      "146  33.0  5034.0       1        False               False            False   \n",
      "147  22.0  8202.0       0        False               False             True   \n",
      "\n",
      "     Company_Infosys Pvt Lmt  Company_TCS  Company_Tata Consultancy Services  \\\n",
      "0                      False         True                              False   \n",
      "1                      False        False                              False   \n",
      "2                      False         True                              False   \n",
      "3                      False        False                              False   \n",
      "4                      False         True                              False   \n",
      "..                       ...          ...                                ...   \n",
      "142                     True        False                              False   \n",
      "143                    False         True                              False   \n",
      "145                    False        False                              False   \n",
      "146                    False         True                              False   \n",
      "147                    False        False                              False   \n",
      "\n",
      "     Place_Bhopal  ...  Place_Chennai  Place_Cochin  Place_Delhi  \\\n",
      "0           False  ...           True         False        False   \n",
      "1           False  ...          False         False        False   \n",
      "2           False  ...          False         False        False   \n",
      "3           False  ...          False         False         True   \n",
      "4           False  ...          False         False        False   \n",
      "..            ...  ...            ...           ...          ...   \n",
      "142         False  ...          False         False        False   \n",
      "143         False  ...          False         False        False   \n",
      "145         False  ...          False         False         True   \n",
      "146         False  ...          False         False        False   \n",
      "147         False  ...          False          True        False   \n",
      "\n",
      "     Place_Hyderabad  Place_Mumbai  Place_Nagpur  Place_Noida  \\\n",
      "0              False         False         False        False   \n",
      "1              False          True         False        False   \n",
      "2              False         False         False        False   \n",
      "3              False         False         False        False   \n",
      "4              False          True         False        False   \n",
      "..               ...           ...           ...          ...   \n",
      "142            False          True         False        False   \n",
      "143            False         False         False        False   \n",
      "145            False         False         False        False   \n",
      "146            False          True         False        False   \n",
      "147            False         False         False        False   \n",
      "\n",
      "     Place_Podicherry  Place_Pune  Country_India  \n",
      "0               False       False           True  \n",
      "1               False       False           True  \n",
      "2               False       False           True  \n",
      "3               False       False           True  \n",
      "4               False       False           True  \n",
      "..                ...         ...            ...  \n",
      "142             False       False           True  \n",
      "143             False       False           True  \n",
      "145             False       False           True  \n",
      "146             False       False           True  \n",
      "147             False       False           True  \n",
      "\n",
      "[144 rows x 21 columns]\n"
     ]
    }
   ],
   "source": [
    "# To convert categorical variables into numerical representations, you can use various encoding techniques \n",
    "# such as one-hot encoding and label encoding. These methods are essential for preparing data for machine learning algorithms \n",
    "# that require numerical input.\n",
    "\n",
    "# One-Hot Encoding\n",
    "#One-hot encoding creates binary columns for each category, indicating the presence or absence of the category.\n",
    "#  This method is suitable for nominal categorical variables where there is no intrinsic ordering.\n",
    "\n",
    "## Apply One-Hot Encoding to 'Company', 'Place', and 'Country'\n",
    "df_encoded = pd.get_dummies(df,columns=['Company','Place','Country'])\n",
    "print(\"Data after One-Hot Encoding:\")\n",
    "print(df_encoded)\n"
   ]
  },
  {
   "cell_type": "markdown",
   "metadata": {},
   "source": [
    "## Feature Scaling: \n",
    "After the process of encoding, perform the scaling of the features using standardscaler and minmaxscaler."
   ]
  },
  {
   "cell_type": "code",
   "execution_count": 105,
   "metadata": {},
   "outputs": [
    {
     "name": "stdout",
     "output_type": "stream",
     "text": [
      "Data after Standard Scaling:\n",
      "[[-1.48467637 -0.10082748 -0.53452248 ... -0.14586499 -0.11867817\n",
      "   0.        ]\n",
      " [-0.26717411 -0.10082748 -0.53452248 ... -0.14586499 -0.11867817\n",
      "   0.        ]\n",
      " [ 0.34157702 -1.2437349  -0.53452248 ... -0.14586499 -0.11867817\n",
      "   0.        ]\n",
      " ...\n",
      " [ 1.43732906 -0.50973436  1.87082869 ... -0.14586499 -0.11867817\n",
      "   0.        ]\n",
      " [ 0.09807657 -0.08643531  1.87082869 ... -0.14586499 -0.11867817\n",
      "   0.        ]\n",
      " [-1.24117592  1.25457606 -0.53452248 ... -0.14586499 -0.11867817\n",
      "   0.        ]]\n"
     ]
    }
   ],
   "source": [
    "#Feature scaling is an essential preprocessing step in machine learning to ensure that all features contribute \n",
    "# equally to the model's performance. Scaling transforms features to have a specific range or distribution, \n",
    "# which can improve the convergence of gradient descent algorithms and the performance of distance-based models.\n",
    "\n",
    "# StandardScaler standardizes features by removing the mean and scaling to unit variance. \n",
    "# It transforms the data so that it has a mean of 0 and a standard deviation of 1.\n",
    "\n",
    "\n",
    "\n",
    "#initialize standard scaler\n",
    "standard_scaler = StandardScaler()\n",
    "standard_scaler.fit(df_encoded)\n",
    "#transform the data\n",
    "scaled_data = standard_scaler.transform(df_encoded)\n",
    "\n",
    "# Print the scaled data\n",
    "print(\"Data after Standard Scaling:\")\n",
    "print(scaled_data)\n"
   ]
  },
  {
   "cell_type": "code",
   "execution_count": 109,
   "metadata": {},
   "outputs": [
    {
     "name": "stdout",
     "output_type": "stream",
     "text": [
      "[[0.08108108 0.44508934 0.         ... 0.         0.         0.        ]\n",
      " [0.35135135 0.44508934 0.         ... 0.         0.         0.        ]\n",
      " [0.48648649 0.13781723 0.         ... 0.         0.         0.        ]\n",
      " ...\n",
      " [0.72972973 0.33515421 1.         ... 0.         0.         0.        ]\n",
      " [0.43243243 0.44895869 1.         ... 0.         0.         0.        ]\n",
      " [0.13513514 0.80949129 0.         ... 0.         0.         0.        ]]\n"
     ]
    }
   ],
   "source": [
    "# MinMaxScaler scales features to a given range, typically [0, 1]. \n",
    "# It transforms the data by scaling each feature to a specific range based on the minimum and maximum values.\n",
    "\n",
    "minmax_scaler = MinMaxScaler()\n",
    "#Fit the scaler on the data\n",
    "minmax_scaler.fit(df_encoded)\n",
    "#Transform the data\n",
    "scaled_data = minmax_scaler.transform(df_encoded)\n",
    "print(scaled_data)"
   ]
  }
 ],
 "metadata": {
  "kernelspec": {
   "display_name": "Python 3",
   "language": "python",
   "name": "python3"
  },
  "language_info": {
   "codemirror_mode": {
    "name": "ipython",
    "version": 3
   },
   "file_extension": ".py",
   "mimetype": "text/x-python",
   "name": "python",
   "nbconvert_exporter": "python",
   "pygments_lexer": "ipython3",
   "version": "3.12.2"
  }
 },
 "nbformat": 4,
 "nbformat_minor": 2
}
