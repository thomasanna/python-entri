{
 "cells": [
  {
   "cell_type": "markdown",
   "metadata": {},
   "source": [
    "10. Write a Python a program to find the union and intersection of two lists.\n"
   ]
  },
  {
   "cell_type": "code",
   "execution_count": 4,
   "metadata": {},
   "outputs": [
    {
     "name": "stdout",
     "output_type": "stream",
     "text": [
      "Union of list1 and list2: [1, 2, 3, 4, 5, 6, 7, 8]\n",
      "Intersection of list1 and list2: [4, 5]\n"
     ]
    }
   ],
   "source": [
    "\n",
    "\n",
    "def findUnion(list1, list2):\n",
    "    set1 = set(list1) # Convert lists to sets to remove duplicates and use set union operation\n",
    "    set2 = set(list2)\n",
    "    return list(set1.union(set2))\n",
    "\n",
    "def findIntersection(list1,list2):\n",
    "     set1 = set(list1)\n",
    "     set2 = set(list2)\n",
    "     return list(set1.intersection(set2))\n",
    "\n",
    "list1 = [1, 2, 3, 4, 5]\n",
    "list2 = [4, 5, 6, 7, 8]\n",
    "\n",
    "union_result = findUnion(list1,list2)\n",
    "print(\"Union of list1 and list2:\", union_result)\n",
    "intersection_result = findIntersection(list1,list2)\n",
    "print(\"Intersection of list1 and list2:\", intersection_result)\n"
   ]
  }
 ],
 "metadata": {
  "kernelspec": {
   "display_name": "Python 3",
   "language": "python",
   "name": "python3"
  },
  "language_info": {
   "codemirror_mode": {
    "name": "ipython",
    "version": 3
   },
   "file_extension": ".py",
   "mimetype": "text/x-python",
   "name": "python",
   "nbconvert_exporter": "python",
   "pygments_lexer": "ipython3",
   "version": "3.12.2"
  }
 },
 "nbformat": 4,
 "nbformat_minor": 2
}
