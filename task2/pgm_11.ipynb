{
 "cells": [
  {
   "cell_type": "markdown",
   "metadata": {},
   "source": [
    "11.Write a Python script to sort (ascending and descending) a dictionary by value\n"
   ]
  },
  {
   "cell_type": "code",
   "execution_count": 12,
   "metadata": {},
   "outputs": [
    {
     "name": "stdout",
     "output_type": "stream",
     "text": [
      "Dictionary sorted by value in Ascending order is {'Red': 1, 'White': 2, 'Green': 3, 'Pink': 4, 'Black': 5}\n",
      "Dictionary sorted by value in Descending order is {'Black': 5, 'Pink': 4, 'Green': 3, 'White': 2, 'Red': 1}\n"
     ]
    }
   ],
   "source": [
    "\n",
    "def sortDictionary(colors,order):\n",
    "    return  dict(sorted(colors.items(), key=lambda item: item[1],reverse=order)) \n",
    "    #The key=lambda item: item[1] specifies a lambda function as the sorting key. This lambda function extracts the \n",
    "    #value (item[1]) from each key-value pair (item) in the dictionary.\n",
    "\n",
    "\n",
    "colors = {'Red': 1, 'Green': 3, 'Black': 5, 'White': 2, 'Pink': 4}\n",
    "sort_by_ascending = sortDictionary(colors,False) # Ascending order\n",
    "print(f\"Dictionary sorted by value in Ascending order is {sort_by_ascending}\")\n",
    "sort_by_descending = sortDictionary(colors,True) # Descending order\n",
    "print(f\"Dictionary sorted by value in Descending order is {sort_by_descending}\")"
   ]
  }
 ],
 "metadata": {
  "kernelspec": {
   "display_name": "Python 3",
   "language": "python",
   "name": "python3"
  },
  "language_info": {
   "codemirror_mode": {
    "name": "ipython",
    "version": 3
   },
   "file_extension": ".py",
   "mimetype": "text/x-python",
   "name": "python",
   "nbconvert_exporter": "python",
   "pygments_lexer": "ipython3",
   "version": "3.12.2"
  }
 },
 "nbformat": 4,
 "nbformat_minor": 2
}
