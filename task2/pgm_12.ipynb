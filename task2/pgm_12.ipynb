{
 "cells": [
  {
   "cell_type": "markdown",
   "metadata": {},
   "source": [
    "12. Write a Python script to check whether a given key already exists in a dictionary.\n"
   ]
  },
  {
   "cell_type": "code",
   "execution_count": 4,
   "metadata": {},
   "outputs": [
    {
     "name": "stdout",
     "output_type": "stream",
     "text": [
      "Yes, 'Red' is one of the keys in the thisdict dictionary\n"
     ]
    }
   ],
   "source": [
    "thisDict = {'Red': 1, 'Green': 3, 'Black': 5, 'White': 2, 'Pink': 4}\n",
    "key = 'Red'\n",
    "if key in thisDict:\n",
    "    print(f\"Yes, '{key}' is one of the keys in the thisdict dictionary\")\n",
    "else:\n",
    "    print(f\"No, '{key}' is not exists in the thisdict dictionary\")"
   ]
  }
 ],
 "metadata": {
  "kernelspec": {
   "display_name": "Python 3",
   "language": "python",
   "name": "python3"
  },
  "language_info": {
   "codemirror_mode": {
    "name": "ipython",
    "version": 3
   },
   "file_extension": ".py",
   "mimetype": "text/x-python",
   "name": "python",
   "nbconvert_exporter": "python",
   "pygments_lexer": "ipython3",
   "version": "3.12.2"
  }
 },
 "nbformat": 4,
 "nbformat_minor": 2
}
