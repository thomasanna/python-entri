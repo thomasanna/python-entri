{
 "cells": [
  {
   "cell_type": "markdown",
   "metadata": {},
   "source": [
    "14.Write a Python program to create a dictionary with a number and its corresponding square from 1 to input number. And also check if the input number is less than 10\n",
    "Eg:\n",
    "Input : 3\n",
    "Output : {1:1, 2:4, 3:9}\n"
   ]
  },
  {
   "cell_type": "code",
   "execution_count": 1,
   "metadata": {},
   "outputs": [],
   "source": [
    "try:\n",
    "    n =int(input(\"Enter a number: \"))\n",
    "    squareDict = {}\n",
    "    if n < 10:\n",
    "        squareDict = {n:n**2 for n in range(1,n+1)}\n",
    "        print(squareDict)\n",
    "    else:\n",
    "        print(f\"Input number {n} is greater than 10\")     \n",
    "\n",
    "except Exception as e:\n",
    "   print(e)"
   ]
  },
  {
   "cell_type": "code",
   "execution_count": null,
   "metadata": {},
   "outputs": [],
   "source": []
  }
 ],
 "metadata": {
  "kernelspec": {
   "display_name": "Python 3",
   "language": "python",
   "name": "python3"
  },
  "language_info": {
   "codemirror_mode": {
    "name": "ipython",
    "version": 3
   },
   "file_extension": ".py",
   "mimetype": "text/x-python",
   "name": "python",
   "nbconvert_exporter": "python",
   "pygments_lexer": "ipython3",
   "version": "3.12.2"
  }
 },
 "nbformat": 4,
 "nbformat_minor": 2
}
