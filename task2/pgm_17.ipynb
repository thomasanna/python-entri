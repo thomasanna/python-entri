{
 "cells": [
  {
   "cell_type": "markdown",
   "metadata": {},
   "source": [
    "17. Write a Python program to get the top three items in a shop.\n",
    "Sample data: {'item1': 45.50, 'item2':35, 'item3': 41.30, 'item4':55, 'item5': 24}\n",
    "Expected Output:\n",
    "item4 55\n",
    "item1 45.5\n",
    "item3 41.3\n"
   ]
  },
  {
   "cell_type": "code",
   "execution_count": 8,
   "metadata": {},
   "outputs": [
    {
     "name": "stdout",
     "output_type": "stream",
     "text": [
      "{'item4': 55, 'item1': 45.5, 'item3': 41.3, 'item2': 35, 'item5': 24}\n",
      "{'item4': 55, 'item1': 45.5, 'item3': 41.3}\n",
      "item4 55\n",
      "item1 45.5\n",
      "item3 41.3\n"
     ]
    }
   ],
   "source": [
    "myDict = {'item1': 45.50, 'item2':35, 'item3': 41.30, 'item4':55, 'item5': 24}\n",
    "sortedDict = dict(sorted(myDict.items(), key=lambda item: item[1],reverse=True)) \n",
    "print(sortedDict) # sort dictionary in Descending order by value\n",
    "top_three = dict(list(sortedDict.items())[:3]) #return 3 items from dictionary\n",
    "print(top_three)\n",
    "for k,v in top_three.items():\n",
    "    print(f\"{k} {v}\")\n"
   ]
  },
  {
   "cell_type": "markdown",
   "metadata": {},
   "source": []
  }
 ],
 "metadata": {
  "kernelspec": {
   "display_name": "Python 3",
   "language": "python",
   "name": "python3"
  },
  "language_info": {
   "codemirror_mode": {
    "name": "ipython",
    "version": 3
   },
   "file_extension": ".py",
   "mimetype": "text/x-python",
   "name": "python",
   "nbconvert_exporter": "python",
   "pygments_lexer": "ipython3",
   "version": "3.12.2"
  }
 },
 "nbformat": 4,
 "nbformat_minor": 2
}
