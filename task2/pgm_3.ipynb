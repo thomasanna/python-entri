{
 "cells": [
  {
   "cell_type": "markdown",
   "metadata": {},
   "source": [
    "#3. Write a Python program to count the number of strings from a given list of strings. The string length is 2 or more and the first and last characters are the same\n",
    "Sample List : ['abc', 'xyz', 'aba', '1221']\n",
    "Expected Result : 2\n"
   ]
  },
  {
   "cell_type": "code",
   "execution_count": 8,
   "metadata": {},
   "outputs": [
    {
     "name": "stdout",
     "output_type": "stream",
     "text": [
      "The number of strings meeting the specified criteria : 3\n"
     ]
    }
   ],
   "source": [
    "try:\n",
    "    myList = ['abc', 'xyz', 'aba', '1221','33','r']\n",
    "    count =0\n",
    "    for s in myList:\n",
    "        if len(s) >= 2 and s[0] == s[-1]:\n",
    "            count += 1\n",
    "    print(f\"The number of strings meeting the specified criteria : {count}\")\n",
    "    \n",
    "except Exception as e:\n",
    "    print(e)"
   ]
  }
 ],
 "metadata": {
  "kernelspec": {
   "display_name": "Python 3",
   "language": "python",
   "name": "python3"
  },
  "language_info": {
   "codemirror_mode": {
    "name": "ipython",
    "version": 3
   },
   "file_extension": ".py",
   "mimetype": "text/x-python",
   "name": "python",
   "nbconvert_exporter": "python",
   "pygments_lexer": "ipython3",
   "version": "3.12.2"
  }
 },
 "nbformat": 4,
 "nbformat_minor": 2
}
