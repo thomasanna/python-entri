{
 "cells": [
  {
   "cell_type": "markdown",
   "metadata": {},
   "source": [
    "4. Write a Python program to remove duplicates from a list.\n"
   ]
  },
  {
   "cell_type": "code",
   "execution_count": 3,
   "metadata": {},
   "outputs": [
    {
     "name": "stdout",
     "output_type": "stream",
     "text": [
      "[2, 4, 7, 8, 17]\n"
     ]
    }
   ],
   "source": [
    "# one method\n",
    "myList = [8,2,7,2,4,17]\n",
    "mySet = set(myList) # set is not allowing duplicates\n",
    "myList  = list(mySet)\n",
    "print(myList)"
   ]
  },
  {
   "cell_type": "code",
   "execution_count": 5,
   "metadata": {},
   "outputs": [
    {
     "name": "stdout",
     "output_type": "stream",
     "text": [
      "[8, 2, 7, 4, 17]\n"
     ]
    }
   ],
   "source": [
    "#second method\n",
    "myList = [8,2,7,2,4,17,4]\n",
    "uniqueList = []\n",
    "for i in myList:\n",
    "    if(i not in uniqueList):\n",
    "        uniqueList.append(i)\n",
    "print(uniqueList)"
   ]
  }
 ],
 "metadata": {
  "kernelspec": {
   "display_name": "Python 3",
   "language": "python",
   "name": "python3"
  },
  "language_info": {
   "codemirror_mode": {
    "name": "ipython",
    "version": 3
   },
   "file_extension": ".py",
   "mimetype": "text/x-python",
   "name": "python",
   "nbconvert_exporter": "python",
   "pygments_lexer": "ipython3",
   "version": "3.12.2"
  }
 },
 "nbformat": 4,
 "nbformat_minor": 2
}
