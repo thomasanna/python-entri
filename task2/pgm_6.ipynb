{
 "cells": [
  {
   "cell_type": "markdown",
   "metadata": {},
   "source": [
    "6. Write a Python program to filter the list if the length of the character is < 4\n",
    "Sample List : ['abc', 'xyz', 'aba', '1221']\n",
    "Expected Result: ['abc', 'xyz', 'aba']\n"
   ]
  },
  {
   "cell_type": "code",
   "execution_count": 7,
   "metadata": {},
   "outputs": [
    {
     "name": "stdout",
     "output_type": "stream",
     "text": [
      "['abc', 'xyz', 'aba']\n"
     ]
    }
   ],
   "source": [
    "myList = ['abc', 'xyz', 'aba', '1221']\n",
    "newList = [i for i in myList if len(i) < 4]  #list comprehension\n",
    "\n",
    "print(newList)"
   ]
  }
 ],
 "metadata": {
  "kernelspec": {
   "display_name": "Python 3",
   "language": "python",
   "name": "python3"
  },
  "language_info": {
   "codemirror_mode": {
    "name": "ipython",
    "version": 3
   },
   "file_extension": ".py",
   "mimetype": "text/x-python",
   "name": "python",
   "nbconvert_exporter": "python",
   "pygments_lexer": "ipython3",
   "version": "3.12.2"
  }
 },
 "nbformat": 4,
 "nbformat_minor": 2
}
