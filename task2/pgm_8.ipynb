{
 "cells": [
  {
   "cell_type": "markdown",
   "metadata": {},
   "source": [
    "8. Write a Python program to reverse a list at a specific location.\n"
   ]
  },
  {
   "cell_type": "code",
   "execution_count": 7,
   "metadata": {},
   "outputs": [
    {
     "name": "stdout",
     "output_type": "stream",
     "text": [
      "[10, 20, 50, 40, 30]\n"
     ]
    }
   ],
   "source": [
    "myList =[10,20,30,40,50]\n",
    "startIndex = 2\n",
    "myList[startIndex:len(myList)] = myList[startIndex:len(myList)][::-1]  #reversing a sublist from index 2 to end of the string using [::-1] operator\n",
    "print(myList)"
   ]
  },
  {
   "cell_type": "code",
   "execution_count": 22,
   "metadata": {},
   "outputs": [
    {
     "name": "stdout",
     "output_type": "stream",
     "text": [
      "[10, 20, 60, 50, 40, 30, 70, 80, 90, 100]\n"
     ]
    }
   ],
   "source": [
    "#reversing a sublist from index 1 to 3 using [::-1] operator.\n",
    "myList =[10,20,30,40,50,60,70,80,90,100]\n",
    "startIndex = 2\n",
    "endIndex = 6\n",
    "if not myList:\n",
    "    print(\"List is empty\")\n",
    "else:    \n",
    "    if startIndex >= endIndex:\n",
    "        print(\"No valid list to reverse\")\n",
    "    else:\n",
    "        myList[startIndex:endIndex] = myList[startIndex:endIndex][::-1]\n",
    "        print(myList)\n",
    "    "
   ]
  }
 ],
 "metadata": {
  "kernelspec": {
   "display_name": "Python 3",
   "language": "python",
   "name": "python3"
  },
  "language_info": {
   "codemirror_mode": {
    "name": "ipython",
    "version": 3
   },
   "file_extension": ".py",
   "mimetype": "text/x-python",
   "name": "python",
   "nbconvert_exporter": "python",
   "pygments_lexer": "ipython3",
   "version": "3.12.2"
  }
 },
 "nbformat": 4,
 "nbformat_minor": 2
}
