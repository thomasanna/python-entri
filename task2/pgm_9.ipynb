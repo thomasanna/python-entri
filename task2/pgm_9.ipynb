{
 "cells": [
  {
   "cell_type": "markdown",
   "metadata": {},
   "source": [
    "9. Write a Python program to check if a list is a palindrome or not. Return true otherwise false.\n"
   ]
  },
  {
   "cell_type": "code",
   "execution_count": 5,
   "metadata": {},
   "outputs": [
    {
     "name": "stdout",
     "output_type": "stream",
     "text": [
      "The given list is palindrome\n"
     ]
    }
   ],
   "source": [
    "myList =  [\"apple\", \"banana\", \"kiwi\", \"banana\", \"apple\"]\n",
    "if myList:\n",
    "    if myList == myList[::-1]: #Compare the list with its reversed version\n",
    "        print(\"The given list is palindrome\")\n",
    "    else:\n",
    "        print(\"The given list is not palindrome\")\n",
    "else:\n",
    "    print(\"List is empty\")"
   ]
  }
 ],
 "metadata": {
  "kernelspec": {
   "display_name": "Python 3",
   "language": "python",
   "name": "python3"
  },
  "language_info": {
   "codemirror_mode": {
    "name": "ipython",
    "version": 3
   },
   "file_extension": ".py",
   "mimetype": "text/x-python",
   "name": "python",
   "nbconvert_exporter": "python",
   "pygments_lexer": "ipython3",
   "version": "3.12.2"
  }
 },
 "nbformat": 4,
 "nbformat_minor": 2
}
