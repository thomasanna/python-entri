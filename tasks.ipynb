{
  "cells": [
    {
      "cell_type": "markdown",
      "metadata": {
        "id": "view-in-github",
        "colab_type": "text"
      },
      "source": [
        "<a href=\"https://colab.research.google.com/github/thomasanna/python-entri/blob/main/tasks.ipynb\" target=\"_parent\"><img src=\"https://colab.research.google.com/assets/colab-badge.svg\" alt=\"Open In Colab\"/></a>"
      ]
    },
    {
      "cell_type": "code",
      "execution_count": 47,
      "metadata": {
        "id": "8gEwsdw_jLuJ",
        "colab": {
          "base_uri": "https://localhost:8080/"
        },
        "outputId": "0062477c-14f4-4a32-85c2-724b8b4b14e6"
      },
      "outputs": [
        {
          "output_type": "stream",
          "name": "stdout",
          "text": [
            "enter the starting range number1\n",
            "enter the ending range number500\n",
            "The numbers divisible by 7 and multiples of 5 in the given range of 1 and 500 are 35,70,105,140,175,210,245,280,315,350,385,420,455,490\n"
          ]
        }
      ],
      "source": [
        "#Write a python program to find those numbers which are divisible by 7 and multiples of 5, for user input.\n",
        "try:\n",
        "  start = int(input(\"enter the starting range number\"))\n",
        "  end   = int(input(\"enter the ending range number\"))\n",
        "  if start > end:\n",
        "    print(\"Please enter valid range\")\n",
        "  else:\n",
        "    result_array = []\n",
        "    for num in range(start,end):\n",
        "        if num % 7 == 0 and num % 5 == 0:\n",
        "            result_array.append(num)\n",
        "    if result_array:\n",
        "        result_string  = ','.join(map(str, result_array))\n",
        "        print(f\"The numbers divisible by 7 and multiples of 5 in the given range of {start} and {end} are {result_string}\")\n",
        "    else:\n",
        "        print(\"No numbers found\")\n",
        "except Exception as e:\n",
        "   print(e)\n"
      ]
    },
    {
      "cell_type": "code",
      "execution_count": 48,
      "metadata": {
        "id": "iNqHCU0njXcu",
        "colab": {
          "base_uri": "https://localhost:8080/"
        },
        "outputId": "5c8c4c2a-4e9b-4db4-9fd1-426754b5913d"
      },
      "outputs": [
        {
          "output_type": "stream",
          "name": "stdout",
          "text": [
            "Please enter a number57\n",
            "57 is odd number\n"
          ]
        }
      ],
      "source": [
        "#Write a python program to check the user input is even or odd or zero.\n",
        "try:\n",
        "  number = int(input(\"Please enter a number\"))\n",
        "  if number == 0:\n",
        "      print(f\"{number} is zero\")\n",
        "  elif number%2 == 0:\n",
        "      print(f\"{number} is even number\")\n",
        "  else:\n",
        "      print(f\"{number} is odd number\")\n",
        "except Exception as e:\n",
        "  print(e)"
      ]
    },
    {
      "cell_type": "code",
      "execution_count": 49,
      "metadata": {
        "colab": {
          "base_uri": "https://localhost:8080/"
        },
        "id": "qcnnIxPujpSX",
        "outputId": "edea304f-a8ac-4085-8729-4e2f364f4f3c"
      },
      "outputs": [
        {
          "output_type": "stream",
          "name": "stdout",
          "text": [
            "Please enter a number3\n",
            "INTEGER\n"
          ]
        }
      ],
      "source": [
        "#Print decimal part of an input number. If the decimal part is zero print the string : “INTEGER”\n",
        "try:\n",
        "  number = float(input(\"Please enter a number\"))\n",
        "  decimal_part = str(number).split('.')\n",
        "  if decimal_part[1] == '0':\n",
        "      print(\"INTEGER\")\n",
        "  else:\n",
        "      print(decimal_part[1])\n",
        "except Exception as e:\n",
        "  print(e)\n"
      ]
    },
    {
      "cell_type": "code",
      "execution_count": 49,
      "metadata": {
        "id": "A1wVsGmsj2oe"
      },
      "outputs": [],
      "source": []
    }
  ],
  "metadata": {
    "colab": {
      "provenance": [],
      "toc_visible": true,
      "authorship_tag": "ABX9TyOg4SDTe0CC4BWcf4WYzqte",
      "include_colab_link": true
    },
    "kernelspec": {
      "display_name": "Python 3",
      "name": "python3"
    },
    "language_info": {
      "name": "python"
    }
  },
  "nbformat": 4,
  "nbformat_minor": 0
}